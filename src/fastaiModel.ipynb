{
 "cells": [
  {
   "cell_type": "code",
   "execution_count": 3,
   "metadata": {},
   "outputs": [],
   "source": [
    "import os\n",
    "import re\n",
    "from pathlib import Path\n",
    "import spacy\n",
    "import pandas as pd\n",
    "import polars as pol\n",
    "import numpy as np\n",
    "import plotly.express as px\n",
    "from fastai.text.all import *\n",
    "from datetime import datetime\n",
    "from transformers import BertTokenizer, BertModel, BertForSequenceClassification, BertConfig\n",
    "os.environ[\"TOKENIZERS_PARALLELISM\"] = \"false\"\n",
    "os.environ['CUDA_LAUNCH_BLOCKING'] = \"1\""
   ]
  },
  {
   "cell_type": "code",
   "execution_count": 2,
   "metadata": {},
   "outputs": [
    {
     "name": "stdout",
     "output_type": "stream",
     "text": [
      "\u001b[1;31mSignature:\u001b[0m \u001b[0mget_model\u001b[0m\u001b[1;33m(\u001b[0m\u001b[0mmodel\u001b[0m\u001b[1;33m)\u001b[0m\u001b[1;33m\u001b[0m\u001b[1;33m\u001b[0m\u001b[0m\n",
      "\u001b[1;31mDocstring:\u001b[0m Return the model maybe wrapped inside `model`.\n",
      "\u001b[1;31mFile:\u001b[0m      c:\\users\\pakotlyarov\\documents\\python_venv\\dataanalisysnlp\\.venv\\lib\\site-packages\\fastai\\torch_core.py\n",
      "\u001b[1;31mType:\u001b[0m      function"
     ]
    }
   ],
   "source": [
    "get_model? # type: ignore"
   ]
  },
  {
   "cell_type": "code",
   "execution_count": 2,
   "metadata": {},
   "outputs": [],
   "source": [
    "nlp = spacy.load(\"ru_core_news_lg\")"
   ]
  },
  {
   "cell_type": "code",
   "execution_count": 3,
   "metadata": {},
   "outputs": [],
   "source": [
    "nlpru = spacy.load(\"ru_core_news_lg\")"
   ]
  },
  {
   "cell_type": "code",
   "execution_count": 8,
   "metadata": {},
   "outputs": [
    {
     "name": "stdout",
     "output_type": "stream",
     "text": [
      "\u001b[1;31mInit signature:\u001b[0m \u001b[0mWordTokenizer\u001b[0m\u001b[1;33m(\u001b[0m\u001b[0mlang\u001b[0m\u001b[1;33m=\u001b[0m\u001b[1;34m'en'\u001b[0m\u001b[1;33m,\u001b[0m \u001b[0mspecial_toks\u001b[0m\u001b[1;33m=\u001b[0m\u001b[1;32mNone\u001b[0m\u001b[1;33m,\u001b[0m \u001b[0mbuf_sz\u001b[0m\u001b[1;33m=\u001b[0m\u001b[1;36m5000\u001b[0m\u001b[1;33m)\u001b[0m\u001b[1;33m\u001b[0m\u001b[1;33m\u001b[0m\u001b[0m\n",
      "\u001b[1;31mDocstring:\u001b[0m      Spacy tokenizer for `lang`\n",
      "\u001b[1;31mFile:\u001b[0m           c:\\users\\pakotlyarov\\documents\\python_venv\\dataanalisysnlp\\.venv\\lib\\site-packages\\fastai\\text\\core.py\n",
      "\u001b[1;31mType:\u001b[0m           type\n",
      "\u001b[1;31mSubclasses:\u001b[0m     "
     ]
    }
   ],
   "source": [
    "WordTokenizer? # type: ignore"
   ]
  },
  {
   "cell_type": "code",
   "execution_count": 5,
   "metadata": {},
   "outputs": [
    {
     "name": "stdout",
     "output_type": "stream",
     "text": [
      "--------Version info---------\n",
      "Polars:               0.20.28\n",
      "Index type:           UInt32\n",
      "Platform:             Linux-6.5.0-35-generic-x86_64-with-glibc2.35\n",
      "Python:               3.11.9 (main, Apr  6 2024, 17:59:24) [GCC 11.4.0]\n",
      "\n",
      "----Optional dependencies----\n",
      "adbc_driver_manager:  1.0.0\n",
      "cloudpickle:          3.0.0\n",
      "connectorx:           0.3.3\n",
      "deltalake:            0.17.4\n",
      "fastexcel:            0.10.4\n",
      "fsspec:               2023.12.2\n",
      "gevent:               24.2.1\n",
      "hvplot:               0.10.0\n",
      "matplotlib:           3.9.0\n",
      "nest_asyncio:         1.6.0\n",
      "numpy:                1.26.4\n",
      "openpyxl:             3.1.2\n",
      "pandas:               2.2.2\n",
      "pyarrow:              16.1.0\n",
      "pydantic:             2.7.1\n",
      "pyiceberg:            0.6.1\n",
      "pyxlsb:               <not installed>\n",
      "sqlalchemy:           2.0.30\n",
      "torch:                2.3.0+cu121\n",
      "xlsx2csv:             0.8.2\n",
      "xlsxwriter:           3.2.0\n"
     ]
    }
   ],
   "source": [
    "pol.show_versions()"
   ]
  },
  {
   "cell_type": "code",
   "execution_count": 6,
   "metadata": {},
   "outputs": [
    {
     "name": "stdout",
     "output_type": "stream",
     "text": [
      "\n",
      "INSTALLED VERSIONS\n",
      "------------------\n",
      "commit                : d9cdd2ee5a58015ef6f4d15c7226110c9aab8140\n",
      "python                : 3.11.9.final.0\n",
      "python-bits           : 64\n",
      "OS                    : Linux\n",
      "OS-release            : 6.5.0-35-generic\n",
      "Version               : #35~22.04.1-Ubuntu SMP PREEMPT_DYNAMIC Tue May  7 09:00:52 UTC 2\n",
      "machine               : x86_64\n",
      "processor             : x86_64\n",
      "byteorder             : little\n",
      "LC_ALL                : None\n",
      "LANG                  : ru_RU.UTF-8\n",
      "LOCALE                : ru_RU.UTF-8\n",
      "\n",
      "pandas                : 2.2.2\n",
      "numpy                 : 1.26.4\n",
      "pytz                  : 2024.1\n",
      "dateutil              : 2.9.0.post0\n",
      "setuptools            : 70.0.0\n",
      "pip                   : 24.0\n",
      "Cython                : 3.0.10\n",
      "pytest                : None\n",
      "hypothesis            : None\n",
      "sphinx                : None\n",
      "blosc                 : None\n",
      "feather               : None\n",
      "xlsxwriter            : 3.2.0\n",
      "lxml.etree            : 5.2.2\n",
      "html5lib              : None\n",
      "pymysql               : None\n",
      "psycopg2              : 2.9.9\n",
      "jinja2                : 3.1.4\n",
      "IPython               : 8.24.0\n",
      "pandas_datareader     : None\n",
      "adbc-driver-postgresql: None\n",
      "adbc-driver-sqlite    : None\n",
      "bs4                   : 4.12.3\n",
      "bottleneck            : None\n",
      "dataframe-api-compat  : None\n",
      "fastparquet           : None\n",
      "fsspec                : 2023.12.2\n",
      "gcsfs                 : None\n",
      "matplotlib            : 3.9.0\n",
      "numba                 : None\n",
      "numexpr               : None\n",
      "odfpy                 : None\n",
      "openpyxl              : 3.1.2\n",
      "pandas_gbq            : None\n",
      "pyarrow               : 16.1.0\n",
      "pyreadstat            : None\n",
      "python-calamine       : None\n",
      "pyxlsb                : None\n",
      "s3fs                  : None\n",
      "scipy                 : 1.13.1\n",
      "sqlalchemy            : 2.0.30\n",
      "tables                : None\n",
      "tabulate              : None\n",
      "xarray                : None\n",
      "xlrd                  : 2.0.1\n",
      "zstandard             : None\n",
      "tzdata                : 2024.1\n",
      "qtpy                  : None\n",
      "pyqt5                 : None\n"
     ]
    }
   ],
   "source": [
    "pd.show_versions()"
   ]
  },
  {
   "cell_type": "code",
   "execution_count": 4,
   "metadata": {},
   "outputs": [
    {
     "data": {
      "text/plain": [
       "{'spacy_version': '3.7.4',\n",
       " 'location': '/mnt/HDD1/GitHubProject/ClassificationOfTexts/.venv/lib/python3.11/site-packages/spacy',\n",
       " 'platform': 'Linux-6.5.0-35-generic-x86_64-with-glibc2.35',\n",
       " 'python_version': '3.11.9',\n",
       " 'pipelines': {}}"
      ]
     },
     "execution_count": 4,
     "metadata": {},
     "output_type": "execute_result"
    }
   ],
   "source": [
    "spacy.info()"
   ]
  },
  {
   "cell_type": "code",
   "execution_count": 2,
   "metadata": {},
   "outputs": [],
   "source": [
    "data_clas = [\n",
    "    '',\n",
    "    '',\n",
    "    '',\n",
    "    '',\n",
    "    '',\n",
    "    '',\n",
    "    '',\n",
    "    '',\n",
    "    '',\n",
    "    '',\n",
    "    '',\n",
    "    '',\n",
    "    '',\n",
    "    '',\n",
    "    '',\n",
    "    '',\n",
    "    '',\n",
    "    ''\n",
    "]"
   ]
  },
  {
   "cell_type": "code",
   "execution_count": 7,
   "metadata": {},
   "outputs": [],
   "source": [
    "path_to_folder_osnow = Path(\"../../SomeData\")"
   ]
  },
  {
   "cell_type": "code",
   "execution_count": 8,
   "metadata": {},
   "outputs": [],
   "source": [
    "path_to_folder = path_to_folder_osnow/\"dataPod\""
   ]
  },
  {
   "cell_type": "code",
   "execution_count": 4,
   "metadata": {},
   "outputs": [],
   "source": [
    "pd_data_from_folder = pd.read_csv(path_to_folder/\"dataNew.csv\")"
   ]
  },
  {
   "cell_type": "code",
   "execution_count": 44,
   "metadata": {},
   "outputs": [],
   "source": [
    "date_cols = ['create_date']"
   ]
  },
  {
   "cell_type": "code",
   "execution_count": 2,
   "metadata": {},
   "outputs": [],
   "source": [
    "pd_data_from_folder = pd.read_excel(path_to_folder/\"new/some_dataset _v2.xlsx\", \n",
    "                                    dtype = {'id': int, 'title': str, 'description': str, 'category_name': str, 'create_date': str})"
   ]
  },
  {
   "cell_type": "code",
   "execution_count": null,
   "metadata": {},
   "outputs": [],
   "source": [
    "pd_data_from_folder = pd.read_csv(path_to_folder_osnow/\"some_dataset/requests2.csv\", sep=\"\t\")"
   ]
  },
  {
   "cell_type": "code",
   "execution_count": 3,
   "metadata": {},
   "outputs": [],
   "source": [
    "pd_data_from_folder[\"create_date\"] = pd.to_datetime(pd_data_from_folder[\"create_date\"])"
   ]
  },
  {
   "cell_type": "code",
   "execution_count": 4,
   "metadata": {},
   "outputs": [
    {
     "name": "stdout",
     "output_type": "stream",
     "text": [
      "<class 'pandas.core.frame.DataFrame'>\n",
      "RangeIndex: 58449 entries, 0 to 58448\n",
      "Data columns (total 5 columns):\n",
      " #   Column         Non-Null Count  Dtype         \n",
      "---  ------         --------------  -----         \n",
      " 0   id             58449 non-null  int64         \n",
      " 1   title          58449 non-null  object        \n",
      " 2   description    58449 non-null  object        \n",
      " 3   category_name  58449 non-null  object        \n",
      " 4   create_date    58449 non-null  datetime64[ns]\n",
      "dtypes: datetime64[ns](1), int64(1), object(3)\n",
      "memory usage: 2.2+ MB\n"
     ]
    }
   ],
   "source": [
    "pd_data_from_folder.info()"
   ]
  },
  {
   "cell_type": "code",
   "execution_count": 5,
   "metadata": {},
   "outputs": [],
   "source": [
    "pd_data_from_folder = pol.from_pandas(pd_data_from_folder)"
   ]
  },
  {
   "cell_type": "code",
   "execution_count": 254,
   "metadata": {},
   "outputs": [],
   "source": [
    "pd_data_from_folder = pol.read_csv(path_to_folder_osnow/\"some_dataset/requests2.csv\", separator=\"\t\")"
   ]
  },
  {
   "cell_type": "code",
   "execution_count": 255,
   "metadata": {},
   "outputs": [],
   "source": [
    "pd_cat_from_folder = pol.read_csv(path_to_folder_osnow/\"some_dataset/categories.csv\", separator=\"\t\")"
   ]
  },
  {
   "cell_type": "code",
   "execution_count": 24,
   "metadata": {},
   "outputs": [
    {
     "data": {
      "text/plain": [
       "['__annotations__',\n",
       " '__call__',\n",
       " '__class__',\n",
       " '__delattr__',\n",
       " '__dict__',\n",
       " '__dir__',\n",
       " '__doc__',\n",
       " '__enter__',\n",
       " '__eq__',\n",
       " '__exit__',\n",
       " '__format__',\n",
       " '__ge__',\n",
       " '__getattribute__',\n",
       " '__getstate__',\n",
       " '__gt__',\n",
       " '__hash__',\n",
       " '__init__',\n",
       " '__init_subclass__',\n",
       " '__le__',\n",
       " '__lt__',\n",
       " '__module__',\n",
       " '__ne__',\n",
       " '__new__',\n",
       " '__reduce__',\n",
       " '__reduce_ex__',\n",
       " '__repr__',\n",
       " '__setattr__',\n",
       " '__sizeof__',\n",
       " '__str__',\n",
       " '__subclasshook__',\n",
       " '__weakref__',\n",
       " '_original_state',\n",
       " '_recreate_cm',\n",
       " 'activate_decimals',\n",
       " 'load',\n",
       " 'load_from_file',\n",
       " 'restore_defaults',\n",
       " 'save',\n",
       " 'save_to_file',\n",
       " 'set_ascii_tables',\n",
       " 'set_auto_structify',\n",
       " 'set_decimal_separator',\n",
       " 'set_float_precision',\n",
       " 'set_fmt_float',\n",
       " 'set_fmt_str_lengths',\n",
       " 'set_fmt_table_cell_list_len',\n",
       " 'set_streaming_chunk_size',\n",
       " 'set_tbl_cell_alignment',\n",
       " 'set_tbl_cell_numeric_alignment',\n",
       " 'set_tbl_cols',\n",
       " 'set_tbl_column_data_type_inline',\n",
       " 'set_tbl_dataframe_shape_below',\n",
       " 'set_tbl_formatting',\n",
       " 'set_tbl_hide_column_data_types',\n",
       " 'set_tbl_hide_column_names',\n",
       " 'set_tbl_hide_dataframe_shape',\n",
       " 'set_tbl_hide_dtype_separator',\n",
       " 'set_tbl_rows',\n",
       " 'set_tbl_width_chars',\n",
       " 'set_thousands_separator',\n",
       " 'set_trim_decimal_zeros',\n",
       " 'set_verbose',\n",
       " 'state',\n",
       " 'warn_unstable']"
      ]
     },
     "execution_count": 24,
     "metadata": {},
     "output_type": "execute_result"
    }
   ],
   "source": [
    "dir(pol.Config)"
   ]
  },
  {
   "cell_type": "code",
   "execution_count": null,
   "metadata": {},
   "outputs": [],
   "source": [
    "with pol.Config(fmt_str_lengths=300, set_tbl_rows=106):\n",
    "    display(pd_data_from_folder[:])"
   ]
  },
  {
   "cell_type": "code",
   "execution_count": null,
   "metadata": {},
   "outputs": [],
   "source": [
    "pd_data_from_folder.head()"
   ]
  },
  {
   "cell_type": "markdown",
   "metadata": {},
   "source": [
    "## Просматриваем DataFrame"
   ]
  },
  {
   "cell_type": "code",
   "execution_count": null,
   "metadata": {},
   "outputs": [],
   "source": [
    "pd_data_from_folder[0]"
   ]
  },
  {
   "cell_type": "code",
   "execution_count": 9,
   "metadata": {},
   "outputs": [],
   "source": [
    "import LookInJypiter"
   ]
  },
  {
   "cell_type": "code",
   "execution_count": null,
   "metadata": {},
   "outputs": [],
   "source": [
    "LookInJypiter.show_pd(pd_data_from_folder, lib_work=\"polars\")"
   ]
  },
  {
   "cell_type": "code",
   "execution_count": 6,
   "metadata": {},
   "outputs": [],
   "source": [
    "data_for_learn = pd_data_from_folder.filter(pol.col(\"title\").str.contains(\"^[Oo][Ll][Dd][Ii][Dd]:.\\d+$\").not_())"
   ]
  },
  {
   "cell_type": "code",
   "execution_count": 7,
   "metadata": {},
   "outputs": [],
   "source": [
    "data_for_learn = data_for_learn.filter(pol.col(\"title\").str.contains(\"[TtТт]+[EeЕе]+[СсSs]+[TtТт]+\").not_())"
   ]
  },
  {
   "cell_type": "markdown",
   "metadata": {},
   "source": [
    "## Приводим DataFrame в нужный формат"
   ]
  },
  {
   "cell_type": "markdown",
   "metadata": {},
   "source": [
    "Удаляем данные OldId"
   ]
  },
  {
   "cell_type": "code",
   "execution_count": 64,
   "metadata": {},
   "outputs": [],
   "source": [
    "data_for_learn = data_for_learn.filter(pol.col(\"create_date\") > datetime(2021, 1, 1))"
   ]
  },
  {
   "cell_type": "code",
   "execution_count": null,
   "metadata": {},
   "outputs": [],
   "source": [
    "data_for_learn"
   ]
  },
  {
   "cell_type": "code",
   "execution_count": null,
   "metadata": {},
   "outputs": [],
   "source": [
    "pd_data_from_folder[39533]"
   ]
  },
  {
   "cell_type": "code",
   "execution_count": 299,
   "metadata": {},
   "outputs": [
    {
     "data": {
      "text/plain": [
       "34713"
      ]
     },
     "execution_count": 299,
     "metadata": {},
     "output_type": "execute_result"
    }
   ],
   "source": [
    "37123 + 37140 - 39550"
   ]
  },
  {
   "cell_type": "code",
   "execution_count": null,
   "metadata": {},
   "outputs": [],
   "source": [
    "data_for_lerning = data_for_learn\n",
    "#data_for_lerning = data_for_lerning.reset_index(drop=True)\n",
    "display(data_for_lerning.head())"
   ]
  },
  {
   "cell_type": "code",
   "execution_count": 11,
   "metadata": {},
   "outputs": [
    {
     "data": {
      "text/plain": [
       "['id', 'title', 'description', 'category_name', 'create_date', 'status_id']"
      ]
     },
     "execution_count": 11,
     "metadata": {},
     "output_type": "execute_result"
    }
   ],
   "source": [
    "data_for_lerning.columns"
   ]
  },
  {
   "cell_type": "code",
   "execution_count": null,
   "metadata": {},
   "outputs": [],
   "source": [
    "#data_for_lerning.filter(pol.col('CategoryId')!=\"NULL\")\n",
    "data_for_lerning.filter(pol.col('CategoryId')!=0)"
   ]
  },
  {
   "cell_type": "code",
   "execution_count": null,
   "metadata": {},
   "outputs": [],
   "source": [
    "data_for_lerning = data_for_lerning.select(pol.col('Id', 'Title', 'Description', 'CategoryId', 'DistributorId'))\n",
    "data_for_lerning = data_for_lerning.filter(pol.col('CategoryId')!=0)\n",
    "display(data_for_lerning.head())"
   ]
  },
  {
   "cell_type": "code",
   "execution_count": null,
   "metadata": {},
   "outputs": [],
   "source": [
    "data_for_lerning.with_columns(pol.col('CategoryId').cast(pol.Int8))"
   ]
  },
  {
   "cell_type": "code",
   "execution_count": 366,
   "metadata": {},
   "outputs": [],
   "source": [
    "mapper = {\n",
    "    str(id): category_name\n",
    "    for id, category_name\n",
    "    in zip(pd_cat_from_folder[\"Id\"].to_list(), pd_cat_from_folder[\"Title\"].to_list())\n",
    "}"
   ]
  },
  {
   "cell_type": "code",
   "execution_count": 367,
   "metadata": {},
   "outputs": [],
   "source": [
    "data_for_lerning = data_for_lerning.with_columns(pol.col(\"CategoryId\").replace(mapper))"
   ]
  },
  {
   "cell_type": "code",
   "execution_count": null,
   "metadata": {},
   "outputs": [],
   "source": [
    "data_for_lerning[\"Описание\"] = data_for_lerning[\"Title\"] + \" : \" + data_for_lerning[\"Description\"]"
   ]
  },
  {
   "cell_type": "code",
   "execution_count": 11,
   "metadata": {},
   "outputs": [],
   "source": [
    "data_for_lerning = data_for_lerning.with_columns(\n",
    "    Описание = data_for_lerning[\"title\"] + \" : \" + data_for_lerning[\"description\"]\n",
    ")"
   ]
  },
  {
   "cell_type": "code",
   "execution_count": 165,
   "metadata": {},
   "outputs": [],
   "source": [
    "data_for_lerning = data_for_lerning.unique(subset=['Описание'])"
   ]
  },
  {
   "cell_type": "code",
   "execution_count": null,
   "metadata": {},
   "outputs": [],
   "source": [
    "display(data_for_lerning.head())"
   ]
  },
  {
   "cell_type": "code",
   "execution_count": null,
   "metadata": {},
   "outputs": [],
   "source": [
    "#data_for_lerning = data_for_lerning.drop(columns='Название')\n",
    "data_for_lerning = data_for_lerning.select(pol.col('id', 'Описание', 'category_name'))\n",
    "display(data_for_lerning.head())"
   ]
  },
  {
   "cell_type": "markdown",
   "metadata": {},
   "source": [
    "Смотрим на количество классов в тех. потдержке"
   ]
  },
  {
   "cell_type": "code",
   "execution_count": null,
   "metadata": {},
   "outputs": [],
   "source": [
    "LookInJypiter.show_pd(data_for_lerning, lib_work=\"polars\")"
   ]
  },
  {
   "cell_type": "code",
   "execution_count": null,
   "metadata": {},
   "outputs": [],
   "source": [
    "data_for_lerning = data_for_lerning[data_for_lerning['Категория'].notna()]"
   ]
  },
  {
   "cell_type": "code",
   "execution_count": null,
   "metadata": {},
   "outputs": [],
   "source": [
    "with pol.Config(fmt_str_lengths=300, set_tbl_rows=136):\n",
    "    display(data_for_lerning[\"category_name\"].unique())\n",
    "    display(data_for_lerning[\"category_name\"].value_counts())"
   ]
  },
  {
   "cell_type": "code",
   "execution_count": null,
   "metadata": {},
   "outputs": [],
   "source": [
    "data_for_lerning = data_for_lerning.filter(pol.col('DistributorId') == 1)\n",
    "display(data_for_lerning)"
   ]
  },
  {
   "cell_type": "code",
   "execution_count": null,
   "metadata": {},
   "outputs": [],
   "source": [
    "LookInJypiter.show_pd(data_for_lerning)"
   ]
  },
  {
   "cell_type": "code",
   "execution_count": 26,
   "metadata": {},
   "outputs": [],
   "source": [
    "data_for_lerning = data_for_lerning.reset_index(drop=True)"
   ]
  },
  {
   "cell_type": "code",
   "execution_count": 169,
   "metadata": {},
   "outputs": [
    {
     "data": {
      "text/plain": [
       "54303"
      ]
     },
     "execution_count": 169,
     "metadata": {},
     "output_type": "execute_result"
    }
   ],
   "source": [
    "len(data_for_lerning)"
   ]
  },
  {
   "cell_type": "code",
   "execution_count": null,
   "metadata": {},
   "outputs": [],
   "source": [
    "display(data_for_lerning[\"Категория\"].value_counts())"
   ]
  },
  {
   "cell_type": "markdown",
   "metadata": {},
   "source": [
    "Избавляемся от малого количество признаков"
   ]
  },
  {
   "cell_type": "code",
   "execution_count": 15,
   "metadata": {},
   "outputs": [],
   "source": [
    "def remove_low_count_type(pd_tablet: pd.DataFrame, colum: str=\"None\", min_than: int= 50) -> pd.DataFrame:\n",
    "    work_with = pd_tablet.copy()\n",
    "    category_all = work_with[colum].value_counts().to_frame().reset_index()\n",
    "    drop_name = []\n",
    "    print(category_all.shape)\n",
    "    for index in category_all.index:\n",
    "        #print(f\"{category_all['count'][index]} <= {min_than}\")\n",
    "        if category_all['count'][index] <= min_than:\n",
    "            drop_name.append(category_all[colum][index])\n",
    "    print(drop_name)\n",
    "    for item in drop_name:\n",
    "        work_with = work_with[work_with[colum] != item]\n",
    "    print(work_with[colum].value_counts().shape)\n",
    "    return work_with.copy()"
   ]
  },
  {
   "cell_type": "code",
   "execution_count": 16,
   "metadata": {},
   "outputs": [],
   "source": [
    "def pol_remove_low_count_type(pd_tablet: pol.DataFrame, colum: str=\"None\", min_than: int= 50) -> pol.DataFrame:\n",
    "    work_with = pd_tablet.clone()\n",
    "    #print(work_with.count())\n",
    "    print(\"Количество признаков до:\", len(work_with[colum].value_counts()))\n",
    "    category_all = work_with[colum].value_counts()\n",
    "    drop_name = []\n",
    "    print(category_all.shape)\n",
    "    print(category_all)\n",
    "    for index in category_all[colum]:\n",
    "        #print(f\"{index} <= {min_than}\")\n",
    "        #print(category_all.filter(pol.col(colum)==index)[\"count\"].item())\n",
    "        if category_all.filter(pol.col(colum)==index)[\"count\"].item() <= min_than:\n",
    "            drop_name.append(index)\n",
    "    print(drop_name)\n",
    "    for item in drop_name:\n",
    "        work_with = work_with.filter(pol.col(colum)!=item)\n",
    "    #print(work_with.count())\n",
    "    print(\"Количество признаков после:\", len(work_with[colum].value_counts()))\n",
    "    return work_with.clone()"
   ]
  },
  {
   "cell_type": "code",
   "execution_count": null,
   "metadata": {},
   "outputs": [],
   "source": [
    "data_for_lerning = pol_remove_low_count_type(data_for_lerning, \"category_name\", 2)"
   ]
  },
  {
   "cell_type": "code",
   "execution_count": null,
   "metadata": {},
   "outputs": [],
   "source": [
    "display(data_for_lerning[\"category_name\"].unique())\n",
    "display(data_for_lerning[\"category_name\"].value_counts())"
   ]
  },
  {
   "cell_type": "markdown",
   "metadata": {},
   "source": [
    "Смотри на количество классов в Категория"
   ]
  },
  {
   "cell_type": "code",
   "execution_count": null,
   "metadata": {},
   "outputs": [],
   "source": [
    "display(data_for_lerning[\"Категория\"].unique())\n",
    "display(data_for_lerning[\"Категория\"].value_counts())"
   ]
  },
  {
   "cell_type": "markdown",
   "metadata": {},
   "source": [
    "Избавляемся от малого количество признаков"
   ]
  },
  {
   "cell_type": "code",
   "execution_count": null,
   "metadata": {},
   "outputs": [],
   "source": [
    "data_for_lerning = remove_low_count_type(data_for_lerning, \"Категория\", 20)"
   ]
  },
  {
   "cell_type": "code",
   "execution_count": null,
   "metadata": {},
   "outputs": [],
   "source": [
    "display(data_for_lerning[\"Категория\"].unique())\n",
    "display(data_for_lerning[\"Категория\"].value_counts())"
   ]
  },
  {
   "cell_type": "markdown",
   "metadata": {},
   "source": [
    "Убираем повторы строк"
   ]
  },
  {
   "cell_type": "code",
   "execution_count": 274,
   "metadata": {},
   "outputs": [
    {
     "name": "stdout",
     "output_type": "stream",
     "text": [
      "\u001b[0;31mSignature:\u001b[0m\n",
      "\u001b[0mdata_for_lerning\u001b[0m\u001b[0;34m.\u001b[0m\u001b[0mto_pandas\u001b[0m\u001b[0;34m(\u001b[0m\u001b[0;34m\u001b[0m\n",
      "\u001b[0;34m\u001b[0m    \u001b[0;34m*\u001b[0m\u001b[0;34m,\u001b[0m\u001b[0;34m\u001b[0m\n",
      "\u001b[0;34m\u001b[0m    \u001b[0muse_pyarrow_extension_array\u001b[0m\u001b[0;34m:\u001b[0m \u001b[0;34m'bool'\u001b[0m \u001b[0;34m=\u001b[0m \u001b[0;32mFalse\u001b[0m\u001b[0;34m,\u001b[0m\u001b[0;34m\u001b[0m\n",
      "\u001b[0;34m\u001b[0m    \u001b[0;34m**\u001b[0m\u001b[0mkwargs\u001b[0m\u001b[0;34m:\u001b[0m \u001b[0;34m'Any'\u001b[0m\u001b[0;34m,\u001b[0m\u001b[0;34m\u001b[0m\n",
      "\u001b[0;34m\u001b[0m\u001b[0;34m)\u001b[0m \u001b[0;34m->\u001b[0m \u001b[0;34m'pd.DataFrame'\u001b[0m\u001b[0;34m\u001b[0m\u001b[0;34m\u001b[0m\u001b[0m\n",
      "\u001b[0;31mDocstring:\u001b[0m\n",
      "Convert this DataFrame to a pandas DataFrame.\n",
      "\n",
      "This operation copies data if `use_pyarrow_extension_array` is not enabled.\n",
      "\n",
      "Parameters\n",
      "----------\n",
      "use_pyarrow_extension_array\n",
      "    Use PyArrow-backed extension arrays instead of NumPy arrays for the columns\n",
      "    of the pandas DataFrame. This allows zero copy operations and preservation\n",
      "    of null values. Subsequent operations on the resulting pandas DataFrame may\n",
      "    trigger conversion to NumPy if those operations are not supported by PyArrow\n",
      "    compute functions.\n",
      "**kwargs\n",
      "    Additional keyword arguments to be passed to\n",
      "    :meth:`pyarrow.Table.to_pandas`.\n",
      "\n",
      "Returns\n",
      "-------\n",
      ":class:`pandas.DataFrame`\n",
      "\n",
      "Notes\n",
      "-----\n",
      "This operation requires that both :mod:`pandas` and :mod:`pyarrow` are\n",
      "installed.\n",
      "\n",
      "Examples\n",
      "--------\n",
      ">>> df = pl.DataFrame(\n",
      "...     {\n",
      "...         \"foo\": [1, 2, 3],\n",
      "...         \"bar\": [6.0, 7.0, 8.0],\n",
      "...         \"ham\": [\"a\", \"b\", \"c\"],\n",
      "...     }\n",
      "... )\n",
      ">>> df.to_pandas()\n",
      "   foo  bar ham\n",
      "0    1  6.0   a\n",
      "1    2  7.0   b\n",
      "2    3  8.0   c\n",
      "\n",
      "Null values in numeric columns are converted to `NaN`.\n",
      "\n",
      ">>> df = pl.DataFrame(\n",
      "...     {\n",
      "...         \"foo\": [1, 2, None],\n",
      "...         \"bar\": [6.0, None, 8.0],\n",
      "...         \"ham\": [None, \"b\", \"c\"],\n",
      "...     }\n",
      "... )\n",
      ">>> df.to_pandas()\n",
      "   foo  bar   ham\n",
      "0  1.0  6.0  None\n",
      "1  2.0  NaN     b\n",
      "2  NaN  8.0     c\n",
      "\n",
      "Pass `use_pyarrow_extension_array=True` to get a pandas DataFrame with columns\n",
      "backed by PyArrow extension arrays. This will preserve null values.\n",
      "\n",
      ">>> df.to_pandas(use_pyarrow_extension_array=True)\n",
      "    foo   bar   ham\n",
      "0     1   6.0  <NA>\n",
      "1     2  <NA>     b\n",
      "2  <NA>   8.0     c\n",
      ">>> _.dtypes\n",
      "foo           int64[pyarrow]\n",
      "bar          double[pyarrow]\n",
      "ham    large_string[pyarrow]\n",
      "dtype: object\n",
      "\u001b[0;31mFile:\u001b[0m      /media/pakotlyarov/Новый том1/python_venv/DataAnalisysNLP/.venv/lib/python3.11/site-packages/polars/dataframe/frame.py\n",
      "\u001b[0;31mType:\u001b[0m      method"
     ]
    }
   ],
   "source": [
    "data_for_lerning.to_pandas? # type: ignore"
   ]
  },
  {
   "cell_type": "code",
   "execution_count": 20,
   "metadata": {},
   "outputs": [],
   "source": [
    "df_pandas = data_for_lerning.to_pandas()"
   ]
  },
  {
   "cell_type": "code",
   "execution_count": null,
   "metadata": {},
   "outputs": [],
   "source": [
    "display(df_pandas.shape)\n",
    "df_pandas.drop_duplicates(inplace=True)\n",
    "display(df_pandas.shape)\n",
    "display(df_pandas.head())"
   ]
  },
  {
   "cell_type": "code",
   "execution_count": null,
   "metadata": {},
   "outputs": [],
   "source": [
    "display(df_pandas[\"category_name\"].unique())\n",
    "display(df_pandas[\"category_name\"].value_counts())"
   ]
  },
  {
   "cell_type": "code",
   "execution_count": null,
   "metadata": {},
   "outputs": [],
   "source": [
    "LookInJypiter.show_pd(data_for_lerning)"
   ]
  },
  {
   "cell_type": "code",
   "execution_count": 97,
   "metadata": {},
   "outputs": [],
   "source": [
    "data_for_lerning.loc[58062][\"Категория\"] = \"Участок эксплуатации\""
   ]
  },
  {
   "cell_type": "code",
   "execution_count": 98,
   "metadata": {},
   "outputs": [],
   "source": [
    "data_for_lerning = data_for_lerning.reset_index(drop=True)"
   ]
  },
  {
   "cell_type": "code",
   "execution_count": null,
   "metadata": {},
   "outputs": [],
   "source": [
    "data_for_lerning"
   ]
  },
  {
   "cell_type": "code",
   "execution_count": 69,
   "metadata": {},
   "outputs": [],
   "source": [
    "data_for_lerning = data_for_lerning.drop(823)"
   ]
  },
  {
   "cell_type": "markdown",
   "metadata": {},
   "source": [
    "Сохраняем подготовлинную таблицу"
   ]
  },
  {
   "cell_type": "code",
   "execution_count": 24,
   "metadata": {},
   "outputs": [],
   "source": [
    "df_pandas.to_csv(path_to_folder/\"data(for learn).csv\", index=False)"
   ]
  },
  {
   "cell_type": "code",
   "execution_count": 275,
   "metadata": {},
   "outputs": [],
   "source": [
    "data_for_lerning.write_csv(path_to_folder/\"data(for learn).csv\")"
   ]
  },
  {
   "cell_type": "code",
   "execution_count": 286,
   "metadata": {},
   "outputs": [],
   "source": [
    "file = pol.read_csv(path_to_folder/\"data(for learn).csv\", ignore_errors=True)"
   ]
  },
  {
   "cell_type": "code",
   "execution_count": 2,
   "metadata": {},
   "outputs": [],
   "source": [
    "file = pd.read_csv(path_to_folder/\"data(for learn).csv\")"
   ]
  },
  {
   "cell_type": "code",
   "execution_count": null,
   "metadata": {},
   "outputs": [],
   "source": [
    "display(file[\"category_name\"].unique())\n",
    "display(file[\"category_name\"].value_counts())"
   ]
  },
  {
   "cell_type": "code",
   "execution_count": null,
   "metadata": {},
   "outputs": [],
   "source": [
    "LookInJypiter.show_pd(file, lib_work=\"polars\")"
   ]
  },
  {
   "cell_type": "code",
   "execution_count": 57,
   "metadata": {},
   "outputs": [
    {
     "name": "stdout",
     "output_type": "stream",
     "text": [
      "\u001b[1;31mInit signature:\u001b[0m \u001b[0mSpacyTokenizer\u001b[0m\u001b[1;33m(\u001b[0m\u001b[0mlang\u001b[0m\u001b[1;33m=\u001b[0m\u001b[1;34m'en'\u001b[0m\u001b[1;33m,\u001b[0m \u001b[0mspecial_toks\u001b[0m\u001b[1;33m=\u001b[0m\u001b[1;32mNone\u001b[0m\u001b[1;33m,\u001b[0m \u001b[0mbuf_sz\u001b[0m\u001b[1;33m=\u001b[0m\u001b[1;36m5000\u001b[0m\u001b[1;33m)\u001b[0m\u001b[1;33m\u001b[0m\u001b[1;33m\u001b[0m\u001b[0m\n",
      "\u001b[1;31mDocstring:\u001b[0m      Spacy tokenizer for `lang`\n",
      "\u001b[1;31mFile:\u001b[0m           c:\\users\\pakotlyarov\\documents\\python_venv\\dataanalisysnlp\\.venv\\lib\\site-packages\\fastai\\text\\core.py\n",
      "\u001b[1;31mType:\u001b[0m           type\n",
      "\u001b[1;31mSubclasses:\u001b[0m     "
     ]
    }
   ],
   "source": [
    "SpacyTokenizer? # type: ignore"
   ]
  },
  {
   "cell_type": "code",
   "execution_count": 350,
   "metadata": {},
   "outputs": [],
   "source": [
    "spacy_ru = WordTokenizer(lang='ru')"
   ]
  },
  {
   "cell_type": "code",
   "execution_count": 4,
   "metadata": {},
   "outputs": [
    {
     "name": "stdout",
     "output_type": "stream",
     "text": [
      "\u001b[1;31mSignature:\u001b[0m\n",
      "\u001b[0mspacy\u001b[0m\u001b[1;33m.\u001b[0m\u001b[0mblank\u001b[0m\u001b[1;33m(\u001b[0m\u001b[1;33m\n",
      "\u001b[0m    \u001b[0mname\u001b[0m\u001b[1;33m:\u001b[0m \u001b[0mstr\u001b[0m\u001b[1;33m,\u001b[0m\u001b[1;33m\n",
      "\u001b[0m    \u001b[1;33m*\u001b[0m\u001b[1;33m,\u001b[0m\u001b[1;33m\n",
      "\u001b[0m    \u001b[0mvocab\u001b[0m\u001b[1;33m:\u001b[0m \u001b[0mUnion\u001b[0m\u001b[1;33m[\u001b[0m\u001b[0mspacy\u001b[0m\u001b[1;33m.\u001b[0m\u001b[0mvocab\u001b[0m\u001b[1;33m.\u001b[0m\u001b[0mVocab\u001b[0m\u001b[1;33m,\u001b[0m \u001b[0mbool\u001b[0m\u001b[1;33m]\u001b[0m \u001b[1;33m=\u001b[0m \u001b[1;32mTrue\u001b[0m\u001b[1;33m,\u001b[0m\u001b[1;33m\n",
      "\u001b[0m    \u001b[0mconfig\u001b[0m\u001b[1;33m:\u001b[0m \u001b[0mUnion\u001b[0m\u001b[1;33m[\u001b[0m\u001b[0mDict\u001b[0m\u001b[1;33m[\u001b[0m\u001b[0mstr\u001b[0m\u001b[1;33m,\u001b[0m \u001b[0mAny\u001b[0m\u001b[1;33m]\u001b[0m\u001b[1;33m,\u001b[0m \u001b[0mconfection\u001b[0m\u001b[1;33m.\u001b[0m\u001b[0mConfig\u001b[0m\u001b[1;33m]\u001b[0m \u001b[1;33m=\u001b[0m \u001b[1;33m{\u001b[0m\u001b[1;33m}\u001b[0m\u001b[1;33m,\u001b[0m\u001b[1;33m\n",
      "\u001b[0m    \u001b[0mmeta\u001b[0m\u001b[1;33m:\u001b[0m \u001b[0mDict\u001b[0m\u001b[1;33m[\u001b[0m\u001b[0mstr\u001b[0m\u001b[1;33m,\u001b[0m \u001b[0mAny\u001b[0m\u001b[1;33m]\u001b[0m \u001b[1;33m=\u001b[0m \u001b[1;33m{\u001b[0m\u001b[1;33m}\u001b[0m\u001b[1;33m,\u001b[0m\u001b[1;33m\n",
      "\u001b[0m\u001b[1;33m)\u001b[0m \u001b[1;33m->\u001b[0m \u001b[0mspacy\u001b[0m\u001b[1;33m.\u001b[0m\u001b[0mlanguage\u001b[0m\u001b[1;33m.\u001b[0m\u001b[0mLanguage\u001b[0m\u001b[1;33m\u001b[0m\u001b[1;33m\u001b[0m\u001b[0m\n",
      "\u001b[1;31mDocstring:\u001b[0m\n",
      "Create a blank nlp object for a given language code.\n",
      "\n",
      "name (str): The language code, e.g. \"en\".\n",
      "vocab (Vocab): A Vocab object. If True, a vocab is created.\n",
      "config (Dict[str, Any] / Config): Optional config overrides.\n",
      "meta (Dict[str, Any]): Overrides for nlp.meta.\n",
      "RETURNS (Language): The nlp object.\n",
      "\u001b[1;31mFile:\u001b[0m      c:\\users\\pakotlyarov\\documents\\python_venv\\dataanalisysnlp\\.venv\\lib\\site-packages\\spacy\\__init__.py\n",
      "\u001b[1;31mType:\u001b[0m      function"
     ]
    }
   ],
   "source": [
    "spacy.blank? # type: ignore"
   ]
  },
  {
   "cell_type": "code",
   "execution_count": 10,
   "metadata": {},
   "outputs": [
    {
     "name": "stdout",
     "output_type": "stream",
     "text": [
      "\u001b[1;31mSignature:\u001b[0m\n",
      "\u001b[0mTextDataLoaders\u001b[0m\u001b[1;33m.\u001b[0m\u001b[0mfrom_df\u001b[0m\u001b[1;33m(\u001b[0m\u001b[1;33m\n",
      "\u001b[0m    \u001b[0mdf\u001b[0m\u001b[1;33m,\u001b[0m\u001b[1;33m\n",
      "\u001b[0m    \u001b[0mpath\u001b[0m\u001b[1;33m=\u001b[0m\u001b[1;34m'.'\u001b[0m\u001b[1;33m,\u001b[0m\u001b[1;33m\n",
      "\u001b[0m    \u001b[0mvalid_pct\u001b[0m\u001b[1;33m=\u001b[0m\u001b[1;36m0.2\u001b[0m\u001b[1;33m,\u001b[0m\u001b[1;33m\n",
      "\u001b[0m    \u001b[0mseed\u001b[0m\u001b[1;33m=\u001b[0m\u001b[1;32mNone\u001b[0m\u001b[1;33m,\u001b[0m\u001b[1;33m\n",
      "\u001b[0m    \u001b[0mtext_col\u001b[0m\u001b[1;33m=\u001b[0m\u001b[1;36m0\u001b[0m\u001b[1;33m,\u001b[0m\u001b[1;33m\n",
      "\u001b[0m    \u001b[0mlabel_col\u001b[0m\u001b[1;33m=\u001b[0m\u001b[1;36m1\u001b[0m\u001b[1;33m,\u001b[0m\u001b[1;33m\n",
      "\u001b[0m    \u001b[0mlabel_delim\u001b[0m\u001b[1;33m=\u001b[0m\u001b[1;32mNone\u001b[0m\u001b[1;33m,\u001b[0m\u001b[1;33m\n",
      "\u001b[0m    \u001b[0my_block\u001b[0m\u001b[1;33m=\u001b[0m\u001b[1;32mNone\u001b[0m\u001b[1;33m,\u001b[0m\u001b[1;33m\n",
      "\u001b[0m    \u001b[0mtext_vocab\u001b[0m\u001b[1;33m=\u001b[0m\u001b[1;32mNone\u001b[0m\u001b[1;33m,\u001b[0m\u001b[1;33m\n",
      "\u001b[0m    \u001b[0mis_lm\u001b[0m\u001b[1;33m=\u001b[0m\u001b[1;32mFalse\u001b[0m\u001b[1;33m,\u001b[0m\u001b[1;33m\n",
      "\u001b[0m    \u001b[0mvalid_col\u001b[0m\u001b[1;33m=\u001b[0m\u001b[1;32mNone\u001b[0m\u001b[1;33m,\u001b[0m\u001b[1;33m\n",
      "\u001b[0m    \u001b[0mtok_tfm\u001b[0m\u001b[1;33m=\u001b[0m\u001b[1;32mNone\u001b[0m\u001b[1;33m,\u001b[0m\u001b[1;33m\n",
      "\u001b[0m    \u001b[0mtok_text_col\u001b[0m\u001b[1;33m=\u001b[0m\u001b[1;34m'text'\u001b[0m\u001b[1;33m,\u001b[0m\u001b[1;33m\n",
      "\u001b[0m    \u001b[0mseq_len\u001b[0m\u001b[1;33m=\u001b[0m\u001b[1;36m72\u001b[0m\u001b[1;33m,\u001b[0m\u001b[1;33m\n",
      "\u001b[0m    \u001b[0mbackwards\u001b[0m\u001b[1;33m=\u001b[0m\u001b[1;32mFalse\u001b[0m\u001b[1;33m,\u001b[0m\u001b[1;33m\n",
      "\u001b[0m    \u001b[1;33m*\u001b[0m\u001b[1;33m,\u001b[0m\u001b[1;33m\n",
      "\u001b[0m    \u001b[0mbs\u001b[0m\u001b[1;33m:\u001b[0m \u001b[1;34m'int'\u001b[0m \u001b[1;33m=\u001b[0m \u001b[1;36m64\u001b[0m\u001b[1;33m,\u001b[0m\u001b[1;33m\n",
      "\u001b[0m    \u001b[0mval_bs\u001b[0m\u001b[1;33m:\u001b[0m \u001b[1;34m'int'\u001b[0m \u001b[1;33m=\u001b[0m \u001b[1;32mNone\u001b[0m\u001b[1;33m,\u001b[0m\u001b[1;33m\n",
      "\u001b[0m    \u001b[0mshuffle\u001b[0m\u001b[1;33m:\u001b[0m \u001b[1;34m'bool'\u001b[0m \u001b[1;33m=\u001b[0m \u001b[1;32mTrue\u001b[0m\u001b[1;33m,\u001b[0m\u001b[1;33m\n",
      "\u001b[0m    \u001b[0mdevice\u001b[0m\u001b[1;33m=\u001b[0m\u001b[1;32mNone\u001b[0m\u001b[1;33m,\u001b[0m\u001b[1;33m\n",
      "\u001b[0m\u001b[1;33m)\u001b[0m\u001b[1;33m\u001b[0m\u001b[1;33m\u001b[0m\u001b[0m\n",
      "\u001b[1;31mDocstring:\u001b[0m Create from `df` in `path` with `valid_pct`\n",
      "\u001b[1;31mFile:\u001b[0m      c:\\users\\pakotlyarov\\documents\\python_venv\\dataanalisysnlp\\.venv\\lib\\site-packages\\fastai\\text\\data.py\n",
      "\u001b[1;31mType:\u001b[0m      method"
     ]
    }
   ],
   "source": [
    "TextDataLoaders.from_df? # type: ignore"
   ]
  },
  {
   "cell_type": "code",
   "execution_count": 4,
   "metadata": {},
   "outputs": [],
   "source": [
    "class TransformersTokenizer(Transform):\n",
    "    def __init__(self, tokenizer): self.tokenizer = tokenizer\n",
    "    def encodes(self, x): \n",
    "        listed_ob = list(x)\n",
    "        temp_output = []\n",
    "        for item in listed_ob:\n",
    "            temp_output.append(self.tokenizer.tokenize(item))\n",
    "        return (L(item) for item in temp_output)\n",
    "    def decodes(self, x): return TitledStr(self.tokenizer.decode(x.cpu().numpy()))"
   ]
  },
  {
   "cell_type": "code",
   "execution_count": 5,
   "metadata": {},
   "outputs": [],
   "source": [
    "model_token_bert = BertTokenizer.from_pretrained('bert-base-multilingual-cased')"
   ]
  },
  {
   "cell_type": "code",
   "execution_count": 11,
   "metadata": {},
   "outputs": [
    {
     "name": "stderr",
     "output_type": "stream",
     "text": [
      "Some weights of BertForSequenceClassification were not initialized from the model checkpoint at bert-base-uncased and are newly initialized: ['classifier.bias', 'classifier.weight']\n",
      "You should probably TRAIN this model on a down-stream task to be able to use it for predictions and inference.\n"
     ]
    }
   ],
   "source": [
    "bert_model_class = BertForSequenceClassification.from_pretrained('bert-base-uncased', \n",
    "                                                                 num_labels=len(file[\"category_name\"].value_counts()))"
   ]
  },
  {
   "cell_type": "code",
   "execution_count": 6,
   "metadata": {},
   "outputs": [],
   "source": [
    "tokenizer_obert = TransformersTokenizer(model_token_bert)"
   ]
  },
  {
   "cell_type": "code",
   "execution_count": 9,
   "metadata": {},
   "outputs": [],
   "source": [
    "imdb_clas = DataBlock(\n",
    "    blocks=(TextBlock.from_df('Описание', tok=tokenizer_obert, vocab=list(model_token_bert.vocab), rules=[]), CategoryBlock),\n",
    "    get_x=ColReader('text'), get_y=ColReader('category_name'))"
   ]
  },
  {
   "cell_type": "code",
   "execution_count": 28,
   "metadata": {},
   "outputs": [],
   "source": [
    "sen_piec_tok = SentencePieceTokenizer(vocab_sz=240)"
   ]
  },
  {
   "cell_type": "code",
   "execution_count": 29,
   "metadata": {},
   "outputs": [],
   "source": [
    "imdb_clas = DataBlock(\n",
    "    blocks=(TextBlock.from_df('Описание', tok=sen_piec_tok), CategoryBlock),\n",
    "    get_x=ColReader('text'), get_y=ColReader('category_name'))"
   ]
  },
  {
   "cell_type": "code",
   "execution_count": 10,
   "metadata": {},
   "outputs": [
    {
     "data": {
      "text/html": [
       "\n",
       "<style>\n",
       "    /* Turns off some styling */\n",
       "    progress {\n",
       "        /* gets rid of default border in Firefox and Opera. */\n",
       "        border: none;\n",
       "        /* Needs to be in here for Safari polyfill so background images work as expected. */\n",
       "        background-size: auto;\n",
       "    }\n",
       "    progress:not([value]), progress:not([value])::-webkit-progress-bar {\n",
       "        background: repeating-linear-gradient(45deg, #7e7e7e, #7e7e7e 10px, #5c5c5c 10px, #5c5c5c 20px);\n",
       "    }\n",
       "    .progress-bar-interrupted, .progress-bar-interrupted::-webkit-progress-bar {\n",
       "        background: #F44336;\n",
       "    }\n",
       "</style>\n"
      ],
      "text/plain": [
       "<IPython.core.display.HTML object>"
      ]
     },
     "metadata": {},
     "output_type": "display_data"
    },
    {
     "data": {
      "text/html": [],
      "text/plain": [
       "<IPython.core.display.HTML object>"
      ]
     },
     "metadata": {},
     "output_type": "display_data"
    }
   ],
   "source": [
    "dls = TextDataLoaders.from_dblock(imdb_clas, file, device=\"cuda\")"
   ]
  },
  {
   "cell_type": "code",
   "execution_count": null,
   "metadata": {},
   "outputs": [],
   "source": [
    "for_test = TextDataLoaders.from_df(file, text_col=\"Описание\", label_col=\"category_name\", tok_tfm=sen_piec_tok)"
   ]
  },
  {
   "cell_type": "code",
   "execution_count": 31,
   "metadata": {},
   "outputs": [
    {
     "data": {
      "text/plain": [
       "256"
      ]
     },
     "execution_count": 31,
     "metadata": {},
     "output_type": "execute_result"
    }
   ],
   "source": [
    "len(dls.vocab[0])"
   ]
  },
  {
   "cell_type": "code",
   "execution_count": 13,
   "metadata": {},
   "outputs": [
    {
     "data": {
      "text/plain": [
       "['[PAD]',\n",
       " '[unused1]',\n",
       " '[unused2]',\n",
       " '[unused3]',\n",
       " '[unused4]',\n",
       " '[unused5]',\n",
       " '[unused6]',\n",
       " '[unused7]',\n",
       " '[unused8]',\n",
       " '[unused9]',\n",
       " '[unused10]',\n",
       " '[unused11]',\n",
       " '[unused12]',\n",
       " '[unused13]',\n",
       " '[unused14]',\n",
       " '[unused15]',\n",
       " '[unused16]',\n",
       " '[unused17]',\n",
       " '[unused18]',\n",
       " '[unused19]',\n",
       " '[unused20]',\n",
       " '[unused21]',\n",
       " '[unused22]',\n",
       " '[unused23]',\n",
       " '[unused24]',\n",
       " '[unused25]',\n",
       " '[unused26]',\n",
       " '[unused27]',\n",
       " '[unused28]',\n",
       " '[unused29]',\n",
       " '[unused30]',\n",
       " '[unused31]',\n",
       " '[unused32]',\n",
       " '[unused33]',\n",
       " '[unused34]',\n",
       " '[unused35]',\n",
       " '[unused36]',\n",
       " '[unused37]',\n",
       " '[unused38]',\n",
       " '[unused39]',\n",
       " '[unused40]',\n",
       " '[unused41]',\n",
       " '[unused42]',\n",
       " '[unused43]',\n",
       " '[unused44]',\n",
       " '[unused45]',\n",
       " '[unused46]',\n",
       " '[unused47]',\n",
       " '[unused48]',\n",
       " '[unused49]',\n",
       " '[unused50]',\n",
       " '[unused51]',\n",
       " '[unused52]',\n",
       " '[unused53]',\n",
       " '[unused54]',\n",
       " '[unused55]',\n",
       " '[unused56]',\n",
       " '[unused57]',\n",
       " '[unused58]',\n",
       " '[unused59]',\n",
       " '[unused60]',\n",
       " '[unused61]',\n",
       " '[unused62]',\n",
       " '[unused63]',\n",
       " '[unused64]',\n",
       " '[unused65]',\n",
       " '[unused66]',\n",
       " '[unused67]',\n",
       " '[unused68]',\n",
       " '[unused69]',\n",
       " '[unused70]',\n",
       " '[unused71]',\n",
       " '[unused72]',\n",
       " '[unused73]',\n",
       " '[unused74]',\n",
       " '[unused75]',\n",
       " '[unused76]',\n",
       " '[unused77]',\n",
       " '[unused78]',\n",
       " '[unused79]',\n",
       " '[unused80]',\n",
       " '[unused81]',\n",
       " '[unused82]',\n",
       " '[unused83]',\n",
       " '[unused84]',\n",
       " '[unused85]',\n",
       " '[unused86]',\n",
       " '[unused87]',\n",
       " '[unused88]',\n",
       " '[unused89]',\n",
       " '[unused90]',\n",
       " '[unused91]',\n",
       " '[unused92]',\n",
       " '[unused93]',\n",
       " '[unused94]',\n",
       " '[unused95]',\n",
       " '[unused96]',\n",
       " '[unused97]',\n",
       " '[unused98]',\n",
       " '[unused99]',\n",
       " '[UNK]',\n",
       " '[CLS]',\n",
       " '[SEP]',\n",
       " '[MASK]',\n",
       " '<S>',\n",
       " '<T>',\n",
       " '!',\n",
       " '\"',\n",
       " '#',\n",
       " '$',\n",
       " '%',\n",
       " '&',\n",
       " \"'\",\n",
       " '(',\n",
       " ')',\n",
       " '*',\n",
       " '+',\n",
       " ',',\n",
       " '-',\n",
       " '.',\n",
       " '/',\n",
       " '0',\n",
       " '1',\n",
       " '2',\n",
       " '3',\n",
       " '4',\n",
       " '5',\n",
       " '6',\n",
       " '7',\n",
       " '8',\n",
       " '9',\n",
       " ':',\n",
       " ';',\n",
       " '<',\n",
       " '=',\n",
       " '>',\n",
       " '?',\n",
       " '@',\n",
       " 'A',\n",
       " 'B',\n",
       " 'C',\n",
       " 'D',\n",
       " 'E',\n",
       " 'F',\n",
       " 'G',\n",
       " 'H',\n",
       " 'I',\n",
       " 'J',\n",
       " 'K',\n",
       " 'L',\n",
       " 'M',\n",
       " 'N',\n",
       " 'O',\n",
       " 'P',\n",
       " 'Q',\n",
       " 'R',\n",
       " 'S',\n",
       " 'T',\n",
       " 'U',\n",
       " 'V',\n",
       " 'W',\n",
       " 'X',\n",
       " 'Y',\n",
       " 'Z',\n",
       " '[',\n",
       " '\\\\',\n",
       " ']',\n",
       " '^',\n",
       " '_',\n",
       " 'a',\n",
       " 'b',\n",
       " 'c',\n",
       " 'd',\n",
       " 'e',\n",
       " 'f',\n",
       " 'g',\n",
       " 'h',\n",
       " 'i',\n",
       " 'j',\n",
       " 'k',\n",
       " 'l',\n",
       " 'm',\n",
       " 'n',\n",
       " 'o',\n",
       " 'p',\n",
       " 'q',\n",
       " 'r',\n",
       " 's',\n",
       " 't',\n",
       " 'u',\n",
       " 'v',\n",
       " 'w',\n",
       " 'x',\n",
       " 'y',\n",
       " 'z',\n",
       " '{',\n",
       " '|',\n",
       " '}',\n",
       " '~',\n",
       " '¡',\n",
       " '¢',\n",
       " '£',\n",
       " '¥',\n",
       " '¦',\n",
       " '§',\n",
       " '¨',\n",
       " '©',\n",
       " 'ª',\n",
       " '«',\n",
       " '¬',\n",
       " '®',\n",
       " '°',\n",
       " '±',\n",
       " '²',\n",
       " '³',\n",
       " 'µ',\n",
       " '¶',\n",
       " '·',\n",
       " '¹',\n",
       " 'º',\n",
       " '»',\n",
       " '¼',\n",
       " '½',\n",
       " '¾',\n",
       " '¿',\n",
       " 'À',\n",
       " 'Á',\n",
       " 'Â',\n",
       " 'Ã',\n",
       " 'Ä',\n",
       " 'Å',\n",
       " 'Æ',\n",
       " 'Ç',\n",
       " 'È',\n",
       " 'É',\n",
       " 'Ê',\n",
       " 'Ë',\n",
       " 'Ì',\n",
       " 'Í',\n",
       " 'Î',\n",
       " 'Ð',\n",
       " 'Ñ',\n",
       " 'Ò',\n",
       " 'Ó',\n",
       " 'Ô',\n",
       " 'Õ',\n",
       " 'Ö',\n",
       " '×',\n",
       " 'Ø',\n",
       " 'Ú',\n",
       " 'Ü',\n",
       " 'Ý',\n",
       " 'Þ',\n",
       " 'ß',\n",
       " 'à',\n",
       " 'á',\n",
       " 'â',\n",
       " 'ã',\n",
       " 'ä',\n",
       " 'å',\n",
       " 'æ',\n",
       " 'ç',\n",
       " 'è',\n",
       " 'é',\n",
       " 'ê',\n",
       " 'ë',\n",
       " 'ì',\n",
       " 'í',\n",
       " 'î',\n",
       " 'ï',\n",
       " 'ð',\n",
       " 'ñ',\n",
       " 'ò',\n",
       " 'ó',\n",
       " 'ô',\n",
       " 'õ',\n",
       " 'ö',\n",
       " '÷',\n",
       " 'ø',\n",
       " 'ù',\n",
       " 'ú',\n",
       " 'û',\n",
       " 'ü',\n",
       " 'ý',\n",
       " 'þ',\n",
       " 'ÿ',\n",
       " 'Ā',\n",
       " 'ā',\n",
       " 'Ă',\n",
       " 'ă',\n",
       " 'Ą',\n",
       " 'ą',\n",
       " 'Ć',\n",
       " 'ć',\n",
       " 'Č',\n",
       " 'č',\n",
       " 'Ď',\n",
       " 'ď',\n",
       " 'Đ',\n",
       " 'đ',\n",
       " 'Ē',\n",
       " 'ē',\n",
       " 'Ĕ',\n",
       " 'ĕ',\n",
       " 'Ė',\n",
       " 'ė',\n",
       " 'ę',\n",
       " 'ě',\n",
       " 'Ğ',\n",
       " 'ğ',\n",
       " 'ġ',\n",
       " 'Ģ',\n",
       " 'ģ',\n",
       " 'Ħ',\n",
       " 'ħ',\n",
       " 'ĩ',\n",
       " 'Ī',\n",
       " 'ī',\n",
       " 'Į',\n",
       " 'į',\n",
       " 'İ',\n",
       " 'ı',\n",
       " 'Ķ',\n",
       " 'ķ',\n",
       " 'ĺ',\n",
       " 'Ļ',\n",
       " 'ļ',\n",
       " 'Ľ',\n",
       " 'ľ',\n",
       " 'Ł',\n",
       " 'ł',\n",
       " 'ń',\n",
       " 'Ņ',\n",
       " 'ņ',\n",
       " 'ň',\n",
       " 'ŉ',\n",
       " 'ŋ',\n",
       " 'Ō',\n",
       " 'ō',\n",
       " 'ŏ',\n",
       " 'Ő',\n",
       " 'ő',\n",
       " 'Œ',\n",
       " 'œ',\n",
       " 'ŕ',\n",
       " 'Ř',\n",
       " 'ř',\n",
       " 'Ś',\n",
       " 'ś',\n",
       " 'Ş',\n",
       " 'ş',\n",
       " 'Š',\n",
       " 'š',\n",
       " 'Ţ',\n",
       " 'ţ',\n",
       " 'Ť',\n",
       " 'ť',\n",
       " 'ũ',\n",
       " 'Ū',\n",
       " 'ū',\n",
       " 'ŭ',\n",
       " 'ů',\n",
       " 'Ű',\n",
       " 'ű',\n",
       " 'ų',\n",
       " 'ŵ',\n",
       " 'ŷ',\n",
       " 'Ź',\n",
       " 'ź',\n",
       " 'Ż',\n",
       " 'ż',\n",
       " 'Ž',\n",
       " 'ž',\n",
       " 'Ə',\n",
       " 'ƒ',\n",
       " 'ơ',\n",
       " 'Ư',\n",
       " 'ư',\n",
       " 'ǎ',\n",
       " 'ǐ',\n",
       " 'ǔ',\n",
       " 'ǫ',\n",
       " 'ǹ',\n",
       " 'Ș',\n",
       " 'ș',\n",
       " 'Ț',\n",
       " 'ț',\n",
       " 'ɐ',\n",
       " 'ɑ',\n",
       " 'ɔ',\n",
       " 'ɕ',\n",
       " 'ə',\n",
       " 'ɛ',\n",
       " 'ɡ',\n",
       " 'ɣ',\n",
       " 'ɨ',\n",
       " 'ɪ',\n",
       " 'ɲ',\n",
       " 'ɾ',\n",
       " 'ʁ',\n",
       " 'ʃ',\n",
       " 'ʊ',\n",
       " 'ʎ',\n",
       " 'ʒ',\n",
       " 'ʔ',\n",
       " 'ʙ',\n",
       " 'ʰ',\n",
       " 'ʲ',\n",
       " 'ʳ',\n",
       " 'ʷ',\n",
       " 'ʸ',\n",
       " 'ʻ',\n",
       " 'ʼ',\n",
       " 'ʾ',\n",
       " 'ʿ',\n",
       " 'ˈ',\n",
       " 'ː',\n",
       " 'ˡ',\n",
       " 'ˢ',\n",
       " '̀',\n",
       " '́',\n",
       " '̃',\n",
       " '̄',\n",
       " '̍',\n",
       " '̥',\n",
       " '̧',\n",
       " '̲',\n",
       " '͡',\n",
       " '΄',\n",
       " 'Ά',\n",
       " 'Έ',\n",
       " 'Ή',\n",
       " 'Ί',\n",
       " 'Ό',\n",
       " 'Ύ',\n",
       " 'Ώ',\n",
       " 'ΐ',\n",
       " 'Α',\n",
       " 'Β',\n",
       " 'Γ',\n",
       " 'Δ',\n",
       " 'Ε',\n",
       " 'Ζ',\n",
       " 'Η',\n",
       " 'Θ',\n",
       " 'Ι',\n",
       " 'Κ',\n",
       " 'Λ',\n",
       " 'Μ',\n",
       " 'Ν',\n",
       " 'Ξ',\n",
       " 'Ο',\n",
       " 'Π',\n",
       " 'Ρ',\n",
       " 'Σ',\n",
       " 'Τ',\n",
       " 'Υ',\n",
       " 'Φ',\n",
       " 'Χ',\n",
       " 'Ψ',\n",
       " 'Ω',\n",
       " 'ά',\n",
       " 'έ',\n",
       " 'ή',\n",
       " 'ί',\n",
       " 'α',\n",
       " 'β',\n",
       " 'γ',\n",
       " 'δ',\n",
       " 'ε',\n",
       " 'ζ',\n",
       " 'η',\n",
       " 'θ',\n",
       " 'ι',\n",
       " 'κ',\n",
       " 'λ',\n",
       " 'μ',\n",
       " 'ν',\n",
       " 'ξ',\n",
       " 'ο',\n",
       " 'π',\n",
       " 'ρ',\n",
       " 'ς',\n",
       " 'σ',\n",
       " 'τ',\n",
       " 'υ',\n",
       " 'φ',\n",
       " 'χ',\n",
       " 'ψ',\n",
       " 'ω',\n",
       " 'ϊ',\n",
       " 'ϋ',\n",
       " 'ό',\n",
       " 'ύ',\n",
       " 'ώ',\n",
       " 'Ё',\n",
       " 'Ђ',\n",
       " 'Ѓ',\n",
       " 'Є',\n",
       " 'Ѕ',\n",
       " 'І',\n",
       " 'Ї',\n",
       " 'Ј',\n",
       " 'Љ',\n",
       " 'Њ',\n",
       " 'Ћ',\n",
       " 'Ќ',\n",
       " 'Ў',\n",
       " 'Џ',\n",
       " 'А',\n",
       " 'Б',\n",
       " 'В',\n",
       " 'Г',\n",
       " 'Д',\n",
       " 'Е',\n",
       " 'Ж',\n",
       " 'З',\n",
       " 'И',\n",
       " 'Й',\n",
       " 'К',\n",
       " 'Л',\n",
       " 'М',\n",
       " 'Н',\n",
       " 'О',\n",
       " 'П',\n",
       " 'Р',\n",
       " 'С',\n",
       " 'Т',\n",
       " 'У',\n",
       " 'Ф',\n",
       " 'Х',\n",
       " 'Ц',\n",
       " 'Ч',\n",
       " 'Ш',\n",
       " 'Щ',\n",
       " 'Ъ',\n",
       " 'Ы',\n",
       " 'Ь',\n",
       " 'Э',\n",
       " 'Ю',\n",
       " 'Я',\n",
       " 'а',\n",
       " 'б',\n",
       " 'в',\n",
       " 'г',\n",
       " 'д',\n",
       " 'е',\n",
       " 'ж',\n",
       " 'з',\n",
       " 'и',\n",
       " 'й',\n",
       " 'к',\n",
       " 'л',\n",
       " 'м',\n",
       " 'н',\n",
       " 'о',\n",
       " 'п',\n",
       " 'р',\n",
       " 'с',\n",
       " 'т',\n",
       " 'у',\n",
       " 'ф',\n",
       " 'х',\n",
       " 'ц',\n",
       " 'ч',\n",
       " 'ш',\n",
       " 'щ',\n",
       " 'ъ',\n",
       " 'ы',\n",
       " 'ь',\n",
       " 'э',\n",
       " 'ю',\n",
       " 'я',\n",
       " 'ѐ',\n",
       " 'ё',\n",
       " 'ђ',\n",
       " 'ѓ',\n",
       " 'є',\n",
       " 'ѕ',\n",
       " 'і',\n",
       " 'ї',\n",
       " 'ј',\n",
       " 'љ',\n",
       " 'њ',\n",
       " 'ћ',\n",
       " 'ќ',\n",
       " 'ѝ',\n",
       " 'ў',\n",
       " 'џ',\n",
       " 'ѣ',\n",
       " 'Ґ',\n",
       " 'ґ',\n",
       " 'Ғ',\n",
       " 'ғ',\n",
       " 'Җ',\n",
       " 'җ',\n",
       " 'Ҙ',\n",
       " 'ҙ',\n",
       " 'Қ',\n",
       " 'қ',\n",
       " 'Ҡ',\n",
       " 'ҡ',\n",
       " 'ң',\n",
       " 'ҫ',\n",
       " 'Ү',\n",
       " 'ү',\n",
       " 'Ұ',\n",
       " 'ұ',\n",
       " 'Ҳ',\n",
       " 'ҳ',\n",
       " 'Ҷ',\n",
       " 'ҷ',\n",
       " 'Һ',\n",
       " 'һ',\n",
       " 'Ӏ',\n",
       " 'ӑ',\n",
       " 'ӗ',\n",
       " 'Ә',\n",
       " 'ә',\n",
       " 'ӣ',\n",
       " 'Ө',\n",
       " 'ө',\n",
       " 'Ӯ',\n",
       " 'ӯ',\n",
       " 'ӳ',\n",
       " 'Ա',\n",
       " 'Բ',\n",
       " 'Գ',\n",
       " 'Դ',\n",
       " 'Ե',\n",
       " 'Զ',\n",
       " 'Է',\n",
       " 'Ը',\n",
       " 'Թ',\n",
       " 'Ժ',\n",
       " 'Ի',\n",
       " 'Լ',\n",
       " 'Խ',\n",
       " 'Ծ',\n",
       " 'Կ',\n",
       " 'Հ',\n",
       " 'Ձ',\n",
       " 'Ղ',\n",
       " 'Ճ',\n",
       " 'Մ',\n",
       " 'Յ',\n",
       " 'Ն',\n",
       " 'Շ',\n",
       " 'Ո',\n",
       " 'Չ',\n",
       " 'Պ',\n",
       " 'Ջ',\n",
       " 'Ռ',\n",
       " 'Ս',\n",
       " 'Վ',\n",
       " 'Տ',\n",
       " 'Ր',\n",
       " 'Ց',\n",
       " 'Ւ',\n",
       " 'Փ',\n",
       " 'Ք',\n",
       " 'Օ',\n",
       " 'Ֆ',\n",
       " '՚',\n",
       " '՛',\n",
       " '՜',\n",
       " '՝',\n",
       " '՞',\n",
       " 'ա',\n",
       " 'բ',\n",
       " 'գ',\n",
       " 'դ',\n",
       " 'ե',\n",
       " 'զ',\n",
       " 'է',\n",
       " 'ը',\n",
       " 'թ',\n",
       " 'ժ',\n",
       " 'ի',\n",
       " 'լ',\n",
       " 'խ',\n",
       " 'ծ',\n",
       " 'կ',\n",
       " 'հ',\n",
       " 'ձ',\n",
       " 'ղ',\n",
       " 'ճ',\n",
       " 'մ',\n",
       " 'յ',\n",
       " 'ն',\n",
       " 'շ',\n",
       " 'ո',\n",
       " 'չ',\n",
       " 'պ',\n",
       " 'ջ',\n",
       " 'ռ',\n",
       " 'ս',\n",
       " 'վ',\n",
       " 'տ',\n",
       " 'ր',\n",
       " 'ց',\n",
       " 'ւ',\n",
       " 'փ',\n",
       " 'ք',\n",
       " 'օ',\n",
       " 'ֆ',\n",
       " 'և',\n",
       " '։',\n",
       " '֊',\n",
       " 'ְ',\n",
       " 'ֱ',\n",
       " 'ֲ',\n",
       " 'ִ',\n",
       " 'ֵ',\n",
       " 'ֶ',\n",
       " 'ַ',\n",
       " 'ָ',\n",
       " 'ֹ',\n",
       " 'ּ',\n",
       " '־',\n",
       " 'ׁ',\n",
       " 'ׂ',\n",
       " '׃',\n",
       " 'א',\n",
       " 'ב',\n",
       " 'ג',\n",
       " 'ד',\n",
       " 'ה',\n",
       " 'ו',\n",
       " 'ז',\n",
       " 'ח',\n",
       " 'ט',\n",
       " 'י',\n",
       " 'ך',\n",
       " 'כ',\n",
       " 'ל',\n",
       " 'ם',\n",
       " 'מ',\n",
       " 'ן',\n",
       " 'נ',\n",
       " 'ס',\n",
       " 'ע',\n",
       " 'ף',\n",
       " 'פ',\n",
       " 'ץ',\n",
       " 'צ',\n",
       " 'ק',\n",
       " 'ר',\n",
       " 'ש',\n",
       " 'ת',\n",
       " '׳',\n",
       " '״',\n",
       " '،',\n",
       " '؍',\n",
       " 'ؒ',\n",
       " '؛',\n",
       " '؟',\n",
       " 'ء',\n",
       " 'آ',\n",
       " 'أ',\n",
       " 'ؤ',\n",
       " 'إ',\n",
       " 'ئ',\n",
       " 'ا',\n",
       " 'ب',\n",
       " 'ة',\n",
       " 'ت',\n",
       " 'ث',\n",
       " 'ج',\n",
       " 'ح',\n",
       " 'خ',\n",
       " 'د',\n",
       " 'ذ',\n",
       " 'ر',\n",
       " 'ز',\n",
       " 'س',\n",
       " 'ش',\n",
       " 'ص',\n",
       " 'ض',\n",
       " 'ط',\n",
       " 'ظ',\n",
       " 'ع',\n",
       " 'غ',\n",
       " 'ـ',\n",
       " 'ف',\n",
       " 'ق',\n",
       " 'ك',\n",
       " 'ل',\n",
       " 'م',\n",
       " 'ن',\n",
       " 'ه',\n",
       " 'و',\n",
       " 'ى',\n",
       " 'ي',\n",
       " 'ً',\n",
       " 'ٌ',\n",
       " 'ٍ',\n",
       " 'َ',\n",
       " 'ُ',\n",
       " 'ِ',\n",
       " 'ّ',\n",
       " 'ْ',\n",
       " 'ٔ',\n",
       " 'ٛ',\n",
       " '٠',\n",
       " '١',\n",
       " '٢',\n",
       " '٣',\n",
       " '٤',\n",
       " '٥',\n",
       " '٩',\n",
       " '٪',\n",
       " '٫',\n",
       " '٬',\n",
       " '٭',\n",
       " 'ٰ',\n",
       " 'ٹ',\n",
       " 'پ',\n",
       " 'چ',\n",
       " 'ڈ',\n",
       " 'ڑ',\n",
       " 'ژ',\n",
       " 'ڤ',\n",
       " 'ک',\n",
       " 'ڭ',\n",
       " 'گ',\n",
       " 'ں',\n",
       " 'ھ',\n",
       " 'ۀ',\n",
       " 'ہ',\n",
       " 'ۂ',\n",
       " 'ۃ',\n",
       " 'ۆ',\n",
       " 'ۇ',\n",
       " 'ی',\n",
       " 'ے',\n",
       " 'ۓ',\n",
       " '۔',\n",
       " '۰',\n",
       " '۱',\n",
       " '۲',\n",
       " '۳',\n",
       " '۴',\n",
       " '۵',\n",
       " '۶',\n",
       " '۷',\n",
       " '۸',\n",
       " '۹',\n",
       " 'ँ',\n",
       " 'ं',\n",
       " 'ः',\n",
       " 'अ',\n",
       " 'आ',\n",
       " 'इ',\n",
       " 'ई',\n",
       " 'उ',\n",
       " 'ऊ',\n",
       " 'ऋ',\n",
       " 'ऍ',\n",
       " 'ऎ',\n",
       " 'ए',\n",
       " 'ऐ',\n",
       " 'ऑ',\n",
       " 'ओ',\n",
       " 'औ',\n",
       " 'क',\n",
       " 'ख',\n",
       " 'ग',\n",
       " 'घ',\n",
       " 'ङ',\n",
       " 'च',\n",
       " 'छ',\n",
       " 'ज',\n",
       " 'झ',\n",
       " 'ञ',\n",
       " 'ट',\n",
       " 'ठ',\n",
       " 'ड',\n",
       " 'ढ',\n",
       " 'ण',\n",
       " 'त',\n",
       " 'थ',\n",
       " 'द',\n",
       " 'ध',\n",
       " 'न',\n",
       " 'प',\n",
       " 'फ',\n",
       " 'ब',\n",
       " 'भ',\n",
       " 'म',\n",
       " 'य',\n",
       " 'र',\n",
       " 'ऱ',\n",
       " 'ल',\n",
       " 'ळ',\n",
       " 'व',\n",
       " 'श',\n",
       " 'ष',\n",
       " 'स',\n",
       " 'ह',\n",
       " '़',\n",
       " 'ऽ',\n",
       " 'ा',\n",
       " 'ि',\n",
       " 'ी',\n",
       " 'ु',\n",
       " 'ू',\n",
       " 'ृ',\n",
       " 'ॄ',\n",
       " 'ॅ',\n",
       " 'ॆ',\n",
       " 'े',\n",
       " 'ै',\n",
       " 'ॉ',\n",
       " 'ो',\n",
       " 'ौ',\n",
       " '्',\n",
       " 'ॐ',\n",
       " '॓',\n",
       " 'ॠ',\n",
       " '।',\n",
       " '॥',\n",
       " '०',\n",
       " '१',\n",
       " '२',\n",
       " '३',\n",
       " '४',\n",
       " '५',\n",
       " '६',\n",
       " '७',\n",
       " '८',\n",
       " '९',\n",
       " '॰',\n",
       " 'ॲ',\n",
       " 'ঁ',\n",
       " 'ং',\n",
       " 'ঃ',\n",
       " 'অ',\n",
       " 'আ',\n",
       " 'ই',\n",
       " 'ঈ',\n",
       " 'উ',\n",
       " 'ঊ',\n",
       " 'ঋ',\n",
       " 'এ',\n",
       " 'ঐ',\n",
       " 'ও',\n",
       " 'ঔ',\n",
       " 'ক',\n",
       " 'খ',\n",
       " 'গ',\n",
       " 'ঘ',\n",
       " 'ঙ',\n",
       " 'চ',\n",
       " 'ছ',\n",
       " 'জ',\n",
       " 'ঝ',\n",
       " 'ঞ',\n",
       " 'ট',\n",
       " 'ঠ',\n",
       " 'ড',\n",
       " 'ঢ',\n",
       " 'ণ',\n",
       " 'ত',\n",
       " 'থ',\n",
       " 'দ',\n",
       " 'ধ',\n",
       " 'ন',\n",
       " 'প',\n",
       " 'ফ',\n",
       " 'ব',\n",
       " 'ভ',\n",
       " 'ম',\n",
       " 'য',\n",
       " 'র',\n",
       " 'ল',\n",
       " 'শ',\n",
       " 'ষ',\n",
       " 'স',\n",
       " 'হ',\n",
       " '়',\n",
       " 'া',\n",
       " 'ি',\n",
       " 'ী',\n",
       " 'ু',\n",
       " 'ূ',\n",
       " 'ৃ',\n",
       " 'ে',\n",
       " 'ৈ',\n",
       " 'ো',\n",
       " 'ৌ',\n",
       " '্',\n",
       " 'ৎ',\n",
       " '০',\n",
       " '১',\n",
       " '২',\n",
       " '৩',\n",
       " '৪',\n",
       " '৫',\n",
       " '৬',\n",
       " ...]"
      ]
     },
     "execution_count": 13,
     "metadata": {},
     "output_type": "execute_result"
    }
   ],
   "source": [
    "dls.vocab[0]"
   ]
  },
  {
   "cell_type": "code",
   "execution_count": null,
   "metadata": {},
   "outputs": [],
   "source": [
    "dls.valid.show_batch(max_n=3)"
   ]
  },
  {
   "cell_type": "code",
   "execution_count": 12,
   "metadata": {},
   "outputs": [],
   "source": [
    "from fastai.metrics import accuracy\n",
    "loss_func = nn.BCEWithLogitsLoss()\n",
    "acc_02 = partial(accuracy, thresh=0.5)\n",
    "model = bert_model_class"
   ]
  },
  {
   "cell_type": "code",
   "execution_count": 35,
   "metadata": {},
   "outputs": [],
   "source": [
    "learn = text_classifier_learner(dls, AWD_LSTM, pretrained=False, metrics=accuracy)"
   ]
  },
  {
   "cell_type": "code",
   "execution_count": 18,
   "metadata": {},
   "outputs": [],
   "source": [
    "learn = Learner(\n",
    "    dls, model,\n",
    "    loss_func=loss_func, model_dir='/temp/model', metrics=acc_02,\n",
    ")"
   ]
  },
  {
   "cell_type": "code",
   "execution_count": null,
   "metadata": {},
   "outputs": [],
   "source": [
    "learn.lr_find()"
   ]
  },
  {
   "cell_type": "code",
   "execution_count": 43,
   "metadata": {},
   "outputs": [
    {
     "name": "stdout",
     "output_type": "stream",
     "text": [
      "\u001b[1;31mSignature:\u001b[0m\n",
      "\u001b[0mlearn\u001b[0m\u001b[1;33m.\u001b[0m\u001b[0mfit\u001b[0m\u001b[1;33m(\u001b[0m\u001b[1;33m\n",
      "\u001b[0m    \u001b[0mn_epoch\u001b[0m\u001b[1;33m,\u001b[0m\u001b[1;33m\n",
      "\u001b[0m    \u001b[0mlr\u001b[0m\u001b[1;33m=\u001b[0m\u001b[1;32mNone\u001b[0m\u001b[1;33m,\u001b[0m\u001b[1;33m\n",
      "\u001b[0m    \u001b[0mwd\u001b[0m\u001b[1;33m=\u001b[0m\u001b[1;32mNone\u001b[0m\u001b[1;33m,\u001b[0m\u001b[1;33m\n",
      "\u001b[0m    \u001b[0mcbs\u001b[0m\u001b[1;33m=\u001b[0m\u001b[1;32mNone\u001b[0m\u001b[1;33m,\u001b[0m\u001b[1;33m\n",
      "\u001b[0m    \u001b[0mreset_opt\u001b[0m\u001b[1;33m=\u001b[0m\u001b[1;32mFalse\u001b[0m\u001b[1;33m,\u001b[0m\u001b[1;33m\n",
      "\u001b[0m    \u001b[0mstart_epoch\u001b[0m\u001b[1;33m=\u001b[0m\u001b[1;36m0\u001b[0m\u001b[1;33m,\u001b[0m\u001b[1;33m\n",
      "\u001b[0m\u001b[1;33m)\u001b[0m\u001b[1;33m\u001b[0m\u001b[1;33m\u001b[0m\u001b[0m\n",
      "\u001b[1;31mDocstring:\u001b[0m Fit `self.model` for `n_epoch` using `cbs`. Optionally `reset_opt`.\n",
      "\u001b[1;31mFile:\u001b[0m      c:\\users\\pakotlyarov\\documents\\python_venv\\dataanalisysnlp\\.venv\\lib\\site-packages\\fastai\\learner.py\n",
      "\u001b[1;31mType:\u001b[0m      method"
     ]
    }
   ],
   "source": [
    "learn.fit? # type: ignore"
   ]
  },
  {
   "cell_type": "code",
   "execution_count": 47,
   "metadata": {},
   "outputs": [
    {
     "name": "stdout",
     "output_type": "stream",
     "text": [
      "\u001b[1;31mSignature:\u001b[0m\n",
      "\u001b[0mlearn\u001b[0m\u001b[1;33m.\u001b[0m\u001b[0mfit_one_cycle\u001b[0m\u001b[1;33m(\u001b[0m\u001b[1;33m\n",
      "\u001b[0m    \u001b[0mn_epoch\u001b[0m\u001b[1;33m,\u001b[0m\u001b[1;33m\n",
      "\u001b[0m    \u001b[0mlr_max\u001b[0m\u001b[1;33m=\u001b[0m\u001b[1;32mNone\u001b[0m\u001b[1;33m,\u001b[0m\u001b[1;33m\n",
      "\u001b[0m    \u001b[0mdiv\u001b[0m\u001b[1;33m=\u001b[0m\u001b[1;36m25.0\u001b[0m\u001b[1;33m,\u001b[0m\u001b[1;33m\n",
      "\u001b[0m    \u001b[0mdiv_final\u001b[0m\u001b[1;33m=\u001b[0m\u001b[1;36m100000.0\u001b[0m\u001b[1;33m,\u001b[0m\u001b[1;33m\n",
      "\u001b[0m    \u001b[0mpct_start\u001b[0m\u001b[1;33m=\u001b[0m\u001b[1;36m0.25\u001b[0m\u001b[1;33m,\u001b[0m\u001b[1;33m\n",
      "\u001b[0m    \u001b[0mwd\u001b[0m\u001b[1;33m=\u001b[0m\u001b[1;32mNone\u001b[0m\u001b[1;33m,\u001b[0m\u001b[1;33m\n",
      "\u001b[0m    \u001b[0mmoms\u001b[0m\u001b[1;33m=\u001b[0m\u001b[1;32mNone\u001b[0m\u001b[1;33m,\u001b[0m\u001b[1;33m\n",
      "\u001b[0m    \u001b[0mcbs\u001b[0m\u001b[1;33m=\u001b[0m\u001b[1;32mNone\u001b[0m\u001b[1;33m,\u001b[0m\u001b[1;33m\n",
      "\u001b[0m    \u001b[0mreset_opt\u001b[0m\u001b[1;33m=\u001b[0m\u001b[1;32mFalse\u001b[0m\u001b[1;33m,\u001b[0m\u001b[1;33m\n",
      "\u001b[0m    \u001b[0mstart_epoch\u001b[0m\u001b[1;33m=\u001b[0m\u001b[1;36m0\u001b[0m\u001b[1;33m,\u001b[0m\u001b[1;33m\n",
      "\u001b[0m\u001b[1;33m)\u001b[0m\u001b[1;33m\u001b[0m\u001b[1;33m\u001b[0m\u001b[0m\n",
      "\u001b[1;31mDocstring:\u001b[0m Fit `self.model` for `n_epoch` using the 1cycle policy.\n",
      "\u001b[1;31mFile:\u001b[0m      c:\\users\\pakotlyarov\\documents\\python_venv\\dataanalisysnlp\\.venv\\lib\\site-packages\\fastai\\callback\\schedule.py\n",
      "\u001b[1;31mType:\u001b[0m      method"
     ]
    }
   ],
   "source": [
    "learn.fit_one_cycle? # type: ignore"
   ]
  },
  {
   "cell_type": "code",
   "execution_count": 48,
   "metadata": {},
   "outputs": [
    {
     "name": "stdout",
     "output_type": "stream",
     "text": [
      "\u001b[1;31mSignature:\u001b[0m\n",
      "\u001b[0mlearn\u001b[0m\u001b[1;33m.\u001b[0m\u001b[0mfine_tune\u001b[0m\u001b[1;33m(\u001b[0m\u001b[1;33m\n",
      "\u001b[0m    \u001b[0mepochs\u001b[0m\u001b[1;33m,\u001b[0m\u001b[1;33m\n",
      "\u001b[0m    \u001b[0mbase_lr\u001b[0m\u001b[1;33m=\u001b[0m\u001b[1;36m0.002\u001b[0m\u001b[1;33m,\u001b[0m\u001b[1;33m\n",
      "\u001b[0m    \u001b[0mfreeze_epochs\u001b[0m\u001b[1;33m=\u001b[0m\u001b[1;36m1\u001b[0m\u001b[1;33m,\u001b[0m\u001b[1;33m\n",
      "\u001b[0m    \u001b[0mlr_mult\u001b[0m\u001b[1;33m=\u001b[0m\u001b[1;36m100\u001b[0m\u001b[1;33m,\u001b[0m\u001b[1;33m\n",
      "\u001b[0m    \u001b[0mpct_start\u001b[0m\u001b[1;33m=\u001b[0m\u001b[1;36m0.3\u001b[0m\u001b[1;33m,\u001b[0m\u001b[1;33m\n",
      "\u001b[0m    \u001b[0mdiv\u001b[0m\u001b[1;33m=\u001b[0m\u001b[1;36m5.0\u001b[0m\u001b[1;33m,\u001b[0m\u001b[1;33m\n",
      "\u001b[0m    \u001b[1;33m*\u001b[0m\u001b[1;33m,\u001b[0m\u001b[1;33m\n",
      "\u001b[0m    \u001b[0mlr_max\u001b[0m\u001b[1;33m=\u001b[0m\u001b[1;32mNone\u001b[0m\u001b[1;33m,\u001b[0m\u001b[1;33m\n",
      "\u001b[0m    \u001b[0mdiv_final\u001b[0m\u001b[1;33m=\u001b[0m\u001b[1;36m100000.0\u001b[0m\u001b[1;33m,\u001b[0m\u001b[1;33m\n",
      "\u001b[0m    \u001b[0mwd\u001b[0m\u001b[1;33m=\u001b[0m\u001b[1;32mNone\u001b[0m\u001b[1;33m,\u001b[0m\u001b[1;33m\n",
      "\u001b[0m    \u001b[0mmoms\u001b[0m\u001b[1;33m=\u001b[0m\u001b[1;32mNone\u001b[0m\u001b[1;33m,\u001b[0m\u001b[1;33m\n",
      "\u001b[0m    \u001b[0mcbs\u001b[0m\u001b[1;33m=\u001b[0m\u001b[1;32mNone\u001b[0m\u001b[1;33m,\u001b[0m\u001b[1;33m\n",
      "\u001b[0m    \u001b[0mreset_opt\u001b[0m\u001b[1;33m=\u001b[0m\u001b[1;32mFalse\u001b[0m\u001b[1;33m,\u001b[0m\u001b[1;33m\n",
      "\u001b[0m    \u001b[0mstart_epoch\u001b[0m\u001b[1;33m=\u001b[0m\u001b[1;36m0\u001b[0m\u001b[1;33m,\u001b[0m\u001b[1;33m\n",
      "\u001b[0m\u001b[1;33m)\u001b[0m\u001b[1;33m\u001b[0m\u001b[1;33m\u001b[0m\u001b[0m\n",
      "\u001b[1;31mDocstring:\u001b[0m Fine tune with `Learner.freeze` for `freeze_epochs`, then with `Learner.unfreeze` for `epochs`, using discriminative LR.\n",
      "\u001b[1;31mFile:\u001b[0m      c:\\users\\pakotlyarov\\documents\\python_venv\\dataanalisysnlp\\.venv\\lib\\site-packages\\fastai\\callback\\schedule.py\n",
      "\u001b[1;31mType:\u001b[0m      method"
     ]
    }
   ],
   "source": [
    "learn.fine_tune? # type: ignore"
   ]
  },
  {
   "cell_type": "code",
   "execution_count": 37,
   "metadata": {},
   "outputs": [
    {
     "data": {
      "text/html": [
       "\n",
       "<style>\n",
       "    /* Turns off some styling */\n",
       "    progress {\n",
       "        /* gets rid of default border in Firefox and Opera. */\n",
       "        border: none;\n",
       "        /* Needs to be in here for Safari polyfill so background images work as expected. */\n",
       "        background-size: auto;\n",
       "    }\n",
       "    progress:not([value]), progress:not([value])::-webkit-progress-bar {\n",
       "        background: repeating-linear-gradient(45deg, #7e7e7e, #7e7e7e 10px, #5c5c5c 10px, #5c5c5c 20px);\n",
       "    }\n",
       "    .progress-bar-interrupted, .progress-bar-interrupted::-webkit-progress-bar {\n",
       "        background: #F44336;\n",
       "    }\n",
       "</style>\n"
      ],
      "text/plain": [
       "<IPython.core.display.HTML object>"
      ]
     },
     "metadata": {},
     "output_type": "display_data"
    },
    {
     "data": {
      "text/html": [
       "<table border=\"1\" class=\"dataframe\">\n",
       "  <thead>\n",
       "    <tr style=\"text-align: left;\">\n",
       "      <th>epoch</th>\n",
       "      <th>train_loss</th>\n",
       "      <th>valid_loss</th>\n",
       "      <th>accuracy</th>\n",
       "      <th>time</th>\n",
       "    </tr>\n",
       "  </thead>\n",
       "  <tbody>\n",
       "    <tr>\n",
       "      <td>0</td>\n",
       "      <td>1.349234</td>\n",
       "      <td>1.494122</td>\n",
       "      <td>0.579155</td>\n",
       "      <td>00:57</td>\n",
       "    </tr>\n",
       "    <tr>\n",
       "      <td>1</td>\n",
       "      <td>0.968068</td>\n",
       "      <td>0.984975</td>\n",
       "      <td>0.718779</td>\n",
       "      <td>00:58</td>\n",
       "    </tr>\n",
       "    <tr>\n",
       "      <td>2</td>\n",
       "      <td>0.810874</td>\n",
       "      <td>0.787042</td>\n",
       "      <td>0.767207</td>\n",
       "      <td>00:58</td>\n",
       "    </tr>\n",
       "    <tr>\n",
       "      <td>3</td>\n",
       "      <td>0.680147</td>\n",
       "      <td>0.721875</td>\n",
       "      <td>0.784778</td>\n",
       "      <td>00:58</td>\n",
       "    </tr>\n",
       "    <tr>\n",
       "      <td>4</td>\n",
       "      <td>0.638658</td>\n",
       "      <td>0.683045</td>\n",
       "      <td>0.793777</td>\n",
       "      <td>00:58</td>\n",
       "    </tr>\n",
       "  </tbody>\n",
       "</table>"
      ],
      "text/plain": [
       "<IPython.core.display.HTML object>"
      ]
     },
     "metadata": {},
     "output_type": "display_data"
    }
   ],
   "source": [
    "learn.fit_one_cycle(5)"
   ]
  },
  {
   "cell_type": "code",
   "execution_count": 205,
   "metadata": {},
   "outputs": [
    {
     "data": {
      "text/html": [
       "\n",
       "<style>\n",
       "    /* Turns off some styling */\n",
       "    progress {\n",
       "        /* gets rid of default border in Firefox and Opera. */\n",
       "        border: none;\n",
       "        /* Needs to be in here for Safari polyfill so background images work as expected. */\n",
       "        background-size: auto;\n",
       "    }\n",
       "    progress:not([value]), progress:not([value])::-webkit-progress-bar {\n",
       "        background: repeating-linear-gradient(45deg, #7e7e7e, #7e7e7e 10px, #5c5c5c 10px, #5c5c5c 20px);\n",
       "    }\n",
       "    .progress-bar-interrupted, .progress-bar-interrupted::-webkit-progress-bar {\n",
       "        background: #F44336;\n",
       "    }\n",
       "</style>\n"
      ],
      "text/plain": [
       "<IPython.core.display.HTML object>"
      ]
     },
     "metadata": {},
     "output_type": "display_data"
    },
    {
     "data": {
      "text/html": [
       "<table border=\"1\" class=\"dataframe\">\n",
       "  <thead>\n",
       "    <tr style=\"text-align: left;\">\n",
       "      <th>epoch</th>\n",
       "      <th>train_loss</th>\n",
       "      <th>valid_loss</th>\n",
       "      <th>accuracy</th>\n",
       "      <th>time</th>\n",
       "    </tr>\n",
       "  </thead>\n",
       "  <tbody>\n",
       "    <tr>\n",
       "      <td>0</td>\n",
       "      <td>0.487412</td>\n",
       "      <td>0.717713</td>\n",
       "      <td>0.772465</td>\n",
       "      <td>00:27</td>\n",
       "    </tr>\n",
       "    <tr>\n",
       "      <td>1</td>\n",
       "      <td>0.456672</td>\n",
       "      <td>0.715983</td>\n",
       "      <td>0.776917</td>\n",
       "      <td>00:26</td>\n",
       "    </tr>\n",
       "    <tr>\n",
       "      <td>2</td>\n",
       "      <td>0.422383</td>\n",
       "      <td>0.731203</td>\n",
       "      <td>0.770816</td>\n",
       "      <td>00:27</td>\n",
       "    </tr>\n",
       "    <tr>\n",
       "      <td>3</td>\n",
       "      <td>0.374049</td>\n",
       "      <td>0.731192</td>\n",
       "      <td>0.778401</td>\n",
       "      <td>00:26</td>\n",
       "    </tr>\n",
       "    <tr>\n",
       "      <td>4</td>\n",
       "      <td>0.354281</td>\n",
       "      <td>0.844875</td>\n",
       "      <td>0.773619</td>\n",
       "      <td>00:26</td>\n",
       "    </tr>\n",
       "  </tbody>\n",
       "</table>"
      ],
      "text/plain": [
       "<IPython.core.display.HTML object>"
      ]
     },
     "metadata": {},
     "output_type": "display_data"
    }
   ],
   "source": [
    "learn.fit(5)"
   ]
  },
  {
   "cell_type": "code",
   "execution_count": 38,
   "metadata": {},
   "outputs": [
    {
     "data": {
      "text/plain": [
       "Path('models/TechSup_v0.4.pth')"
      ]
     },
     "execution_count": 38,
     "metadata": {},
     "output_type": "execute_result"
    }
   ],
   "source": [
    "learn.export('models/Test.pkl')\n",
    "learn.save('Test')"
   ]
  },
  {
   "cell_type": "code",
   "execution_count": null,
   "metadata": {},
   "outputs": [],
   "source": [
    "learn.fit_one_cycle(10, 4e-3)"
   ]
  },
  {
   "cell_type": "code",
   "execution_count": 5,
   "metadata": {},
   "outputs": [],
   "source": [
    "learn = load_learner(\"models/Test.pkl\")#, cpu=False)"
   ]
  },
  {
   "cell_type": "code",
   "execution_count": 4,
   "metadata": {},
   "outputs": [
    {
     "name": "stdout",
     "output_type": "stream",
     "text": [
      "\u001b[1;31mSignature:\u001b[0m\n",
      "\u001b[0mlearn\u001b[0m\u001b[1;33m.\u001b[0m\u001b[0mexport\u001b[0m\u001b[1;33m(\u001b[0m\u001b[1;33m\n",
      "\u001b[0m    \u001b[0mfname\u001b[0m\u001b[1;33m=\u001b[0m\u001b[1;34m'export.pkl'\u001b[0m\u001b[1;33m,\u001b[0m\u001b[1;33m\n",
      "\u001b[0m    \u001b[0mpickle_module\u001b[0m\u001b[1;33m=\u001b[0m\u001b[1;33m<\u001b[0m\u001b[0mmodule\u001b[0m \u001b[1;34m'pickle'\u001b[0m \u001b[1;32mfrom\u001b[0m \u001b[1;34m'C:\\\\Program Files\\\\Python311\\\\Lib\\\\pickle.py'\u001b[0m\u001b[1;33m>\u001b[0m\u001b[1;33m,\u001b[0m\u001b[1;33m\n",
      "\u001b[0m    \u001b[0mpickle_protocol\u001b[0m\u001b[1;33m=\u001b[0m\u001b[1;36m2\u001b[0m\u001b[1;33m,\u001b[0m\u001b[1;33m\n",
      "\u001b[0m\u001b[1;33m)\u001b[0m\u001b[1;33m\u001b[0m\u001b[1;33m\u001b[0m\u001b[0m\n",
      "\u001b[1;31mSource:\u001b[0m   \n",
      "\u001b[1;33m@\u001b[0m\u001b[0mpatch\u001b[0m\u001b[1;33m\n",
      "\u001b[0m\u001b[1;32mdef\u001b[0m \u001b[0mexport\u001b[0m\u001b[1;33m(\u001b[0m\u001b[0mself\u001b[0m\u001b[1;33m:\u001b[0m\u001b[0mLearner\u001b[0m\u001b[1;33m,\u001b[0m \u001b[0mfname\u001b[0m\u001b[1;33m=\u001b[0m\u001b[1;34m'export.pkl'\u001b[0m\u001b[1;33m,\u001b[0m \u001b[0mpickle_module\u001b[0m\u001b[1;33m=\u001b[0m\u001b[0mpickle\u001b[0m\u001b[1;33m,\u001b[0m \u001b[0mpickle_protocol\u001b[0m\u001b[1;33m=\u001b[0m\u001b[1;36m2\u001b[0m\u001b[1;33m)\u001b[0m\u001b[1;33m:\u001b[0m\u001b[1;33m\n",
      "\u001b[0m    \u001b[1;34m\"Export the content of `self` without the items and the optimizer state for inference\"\u001b[0m\u001b[1;33m\n",
      "\u001b[0m    \u001b[1;32mif\u001b[0m \u001b[0mrank_distrib\u001b[0m\u001b[1;33m(\u001b[0m\u001b[1;33m)\u001b[0m\u001b[1;33m:\u001b[0m \u001b[1;32mreturn\u001b[0m \u001b[1;31m# don't export if child proc\u001b[0m\u001b[1;33m\n",
      "\u001b[0m    \u001b[0mself\u001b[0m\u001b[1;33m.\u001b[0m\u001b[0m_end_cleanup\u001b[0m\u001b[1;33m(\u001b[0m\u001b[1;33m)\u001b[0m\u001b[1;33m\n",
      "\u001b[0m    \u001b[0mold_dbunch\u001b[0m \u001b[1;33m=\u001b[0m \u001b[0mself\u001b[0m\u001b[1;33m.\u001b[0m\u001b[0mdls\u001b[0m\u001b[1;33m\n",
      "\u001b[0m    \u001b[0mself\u001b[0m\u001b[1;33m.\u001b[0m\u001b[0mdls\u001b[0m \u001b[1;33m=\u001b[0m \u001b[0mself\u001b[0m\u001b[1;33m.\u001b[0m\u001b[0mdls\u001b[0m\u001b[1;33m.\u001b[0m\u001b[0mnew_empty\u001b[0m\u001b[1;33m(\u001b[0m\u001b[1;33m)\u001b[0m\u001b[1;33m\n",
      "\u001b[0m    \u001b[0mstate\u001b[0m \u001b[1;33m=\u001b[0m \u001b[0mself\u001b[0m\u001b[1;33m.\u001b[0m\u001b[0mopt\u001b[0m\u001b[1;33m.\u001b[0m\u001b[0mstate_dict\u001b[0m\u001b[1;33m(\u001b[0m\u001b[1;33m)\u001b[0m \u001b[1;32mif\u001b[0m \u001b[0mself\u001b[0m\u001b[1;33m.\u001b[0m\u001b[0mopt\u001b[0m \u001b[1;32mis\u001b[0m \u001b[1;32mnot\u001b[0m \u001b[1;32mNone\u001b[0m \u001b[1;32melse\u001b[0m \u001b[1;32mNone\u001b[0m\u001b[1;33m\n",
      "\u001b[0m    \u001b[0mself\u001b[0m\u001b[1;33m.\u001b[0m\u001b[0mopt\u001b[0m \u001b[1;33m=\u001b[0m \u001b[1;32mNone\u001b[0m\u001b[1;33m\n",
      "\u001b[0m    \u001b[1;32mwith\u001b[0m \u001b[0mwarnings\u001b[0m\u001b[1;33m.\u001b[0m\u001b[0mcatch_warnings\u001b[0m\u001b[1;33m(\u001b[0m\u001b[1;33m)\u001b[0m\u001b[1;33m:\u001b[0m\u001b[1;33m\n",
      "\u001b[0m        \u001b[1;31m#To avoid the warning that come from PyTorch about model not being checked\u001b[0m\u001b[1;33m\n",
      "\u001b[0m        \u001b[0mwarnings\u001b[0m\u001b[1;33m.\u001b[0m\u001b[0msimplefilter\u001b[0m\u001b[1;33m(\u001b[0m\u001b[1;34m\"ignore\"\u001b[0m\u001b[1;33m)\u001b[0m\u001b[1;33m\n",
      "\u001b[0m        \u001b[0mtorch\u001b[0m\u001b[1;33m.\u001b[0m\u001b[0msave\u001b[0m\u001b[1;33m(\u001b[0m\u001b[0mself\u001b[0m\u001b[1;33m,\u001b[0m \u001b[0mself\u001b[0m\u001b[1;33m.\u001b[0m\u001b[0mpath\u001b[0m\u001b[1;33m/\u001b[0m\u001b[0mfname\u001b[0m\u001b[1;33m,\u001b[0m \u001b[0mpickle_module\u001b[0m\u001b[1;33m=\u001b[0m\u001b[0mpickle_module\u001b[0m\u001b[1;33m,\u001b[0m \u001b[0mpickle_protocol\u001b[0m\u001b[1;33m=\u001b[0m\u001b[0mpickle_protocol\u001b[0m\u001b[1;33m)\u001b[0m\u001b[1;33m\n",
      "\u001b[0m    \u001b[0mself\u001b[0m\u001b[1;33m.\u001b[0m\u001b[0mcreate_opt\u001b[0m\u001b[1;33m(\u001b[0m\u001b[1;33m)\u001b[0m\u001b[1;33m\n",
      "\u001b[0m    \u001b[1;32mif\u001b[0m \u001b[0mstate\u001b[0m \u001b[1;32mis\u001b[0m \u001b[1;32mnot\u001b[0m \u001b[1;32mNone\u001b[0m\u001b[1;33m:\u001b[0m \u001b[0mself\u001b[0m\u001b[1;33m.\u001b[0m\u001b[0mopt\u001b[0m\u001b[1;33m.\u001b[0m\u001b[0mload_state_dict\u001b[0m\u001b[1;33m(\u001b[0m\u001b[0mstate\u001b[0m\u001b[1;33m)\u001b[0m\u001b[1;33m\n",
      "\u001b[0m    \u001b[0mself\u001b[0m\u001b[1;33m.\u001b[0m\u001b[0mdls\u001b[0m \u001b[1;33m=\u001b[0m \u001b[0mold_dbunch\u001b[0m\u001b[1;33m\u001b[0m\u001b[1;33m\u001b[0m\u001b[0m\n",
      "\u001b[1;31mFile:\u001b[0m      d:\\python_venv\\dataanalisysnlp\\.venv\\lib\\site-packages\\fastai\\learner.py\n",
      "\u001b[1;31mType:\u001b[0m      method"
     ]
    }
   ],
   "source": [
    "learn.export?? # type: ignore"
   ]
  },
  {
   "cell_type": "code",
   "execution_count": 16,
   "metadata": {},
   "outputs": [
    {
     "data": {
      "text/plain": [
       "SequentialRNN(\n",
       "  (0): SentenceEncoder(\n",
       "    (module): AWD_LSTM(\n",
       "      (encoder): Embedding(18808, 400, padding_idx=1)\n",
       "      (encoder_dp): EmbeddingDropout(\n",
       "        (emb): Embedding(18808, 400, padding_idx=1)\n",
       "      )\n",
       "      (rnns): ModuleList(\n",
       "        (0): WeightDropout(\n",
       "          (module): LSTM(400, 1152, batch_first=True)\n",
       "        )\n",
       "        (1): WeightDropout(\n",
       "          (module): LSTM(1152, 1152, batch_first=True)\n",
       "        )\n",
       "        (2): WeightDropout(\n",
       "          (module): LSTM(1152, 400, batch_first=True)\n",
       "        )\n",
       "      )\n",
       "      (input_dp): RNNDropout()\n",
       "      (hidden_dps): ModuleList(\n",
       "        (0-2): 3 x RNNDropout()\n",
       "      )\n",
       "    )\n",
       "  )\n",
       "  (1): PoolingLinearClassifier(\n",
       "    (layers): Sequential(\n",
       "      (0): LinBnDrop(\n",
       "        (0): BatchNorm1d(1200, eps=1e-05, momentum=0.1, affine=True, track_running_stats=True)\n",
       "        (1): Dropout(p=0.2, inplace=False)\n",
       "        (2): Linear(in_features=1200, out_features=50, bias=False)\n",
       "        (3): ReLU(inplace=True)\n",
       "      )\n",
       "      (1): LinBnDrop(\n",
       "        (0): BatchNorm1d(50, eps=1e-05, momentum=0.1, affine=True, track_running_stats=True)\n",
       "        (1): Dropout(p=0.1, inplace=False)\n",
       "        (2): Linear(in_features=50, out_features=29, bias=False)\n",
       "      )\n",
       "    )\n",
       "  )\n",
       ")"
      ]
     },
     "execution_count": 16,
     "metadata": {},
     "output_type": "execute_result"
    }
   ],
   "source": [
    "learn.cuda()"
   ]
  },
  {
   "cell_type": "code",
   "execution_count": null,
   "metadata": {},
   "outputs": [],
   "source": [
    "learn = learn.load('5epoch_from_zero_20_12_23')"
   ]
  },
  {
   "cell_type": "code",
   "execution_count": null,
   "metadata": {},
   "outputs": [],
   "source": [
    "learn = learn.load('12epoch_from_zero')"
   ]
  },
  {
   "cell_type": "code",
   "execution_count": 41,
   "metadata": {},
   "outputs": [
    {
     "data": {
      "text/html": [
       "\n",
       "<style>\n",
       "    /* Turns off some styling */\n",
       "    progress {\n",
       "        /* gets rid of default border in Firefox and Opera. */\n",
       "        border: none;\n",
       "        /* Needs to be in here for Safari polyfill so background images work as expected. */\n",
       "        background-size: auto;\n",
       "    }\n",
       "    progress:not([value]), progress:not([value])::-webkit-progress-bar {\n",
       "        background: repeating-linear-gradient(45deg, #7e7e7e, #7e7e7e 10px, #5c5c5c 10px, #5c5c5c 20px);\n",
       "    }\n",
       "    .progress-bar-interrupted, .progress-bar-interrupted::-webkit-progress-bar {\n",
       "        background: #F44336;\n",
       "    }\n",
       "</style>\n"
      ],
      "text/plain": [
       "<IPython.core.display.HTML object>"
      ]
     },
     "metadata": {},
     "output_type": "display_data"
    },
    {
     "data": {
      "text/html": [],
      "text/plain": [
       "<IPython.core.display.HTML object>"
      ]
     },
     "metadata": {},
     "output_type": "display_data"
    },
    {
     "data": {
      "text/plain": [
       "('▁xxbos ▁ к ли к - т у - ко л л',\n",
       " 'Программный комплекс SolidWorks (PDM)',\n",
       " tensor(25),\n",
       " tensor([4.3883e-05, 3.6014e-03, 6.1234e-02, 4.5205e-03, 2.6283e-02, 7.9908e-02,\n",
       "         4.7731e-04, 5.4715e-04, 6.4854e-04, 1.5036e-03, 6.9130e-03, 1.1302e-02,\n",
       "         2.7058e-04, 8.7842e-02, 8.3914e-05, 1.9233e-02, 8.4796e-03, 2.1090e-03,\n",
       "         2.2570e-04, 4.7016e-04, 2.7798e-03, 6.4217e-03, 2.5318e-02, 7.7280e-03,\n",
       "         7.0582e-03, 5.8933e-01, 2.6813e-04, 3.4709e-03, 1.0949e-02, 2.8489e-03,\n",
       "         2.8054e-04, 4.0809e-03, 1.6719e-02, 7.5758e-04, 7.5479e-05, 4.4592e-03,\n",
       "         1.7552e-03]))"
      ]
     },
     "execution_count": 41,
     "metadata": {},
     "output_type": "execute_result"
    }
   ],
   "source": [
    "learn.predict('Клик-ту-колл', with_input=True)"
   ]
  },
  {
   "cell_type": "code",
   "execution_count": 199,
   "metadata": {},
   "outputs": [
    {
     "data": {
      "text/html": [
       "\n",
       "<style>\n",
       "    /* Turns off some styling */\n",
       "    progress {\n",
       "        /* gets rid of default border in Firefox and Opera. */\n",
       "        border: none;\n",
       "        /* Needs to be in here for Safari polyfill so background images work as expected. */\n",
       "        background-size: auto;\n",
       "    }\n",
       "    progress:not([value]), progress:not([value])::-webkit-progress-bar {\n",
       "        background: repeating-linear-gradient(45deg, #7e7e7e, #7e7e7e 10px, #5c5c5c 10px, #5c5c5c 20px);\n",
       "    }\n",
       "    .progress-bar-interrupted, .progress-bar-interrupted::-webkit-progress-bar {\n",
       "        background: #F44336;\n",
       "    }\n",
       "</style>\n"
      ],
      "text/plain": [
       "<IPython.core.display.HTML object>"
      ]
     },
     "metadata": {},
     "output_type": "display_data"
    },
    {
     "data": {
      "text/html": [],
      "text/plain": [
       "<IPython.core.display.HTML object>"
      ]
     },
     "metadata": {},
     "output_type": "display_data"
    }
   ],
   "source": [
    "ansver = learn.predict('Обновление ПО ( инфраструктуры и сервисов)', with_input=True)"
   ]
  },
  {
   "cell_type": "code",
   "execution_count": 151,
   "metadata": {},
   "outputs": [
    {
     "data": {
      "text/plain": [
       "array([7.7060767e-04, 1.0468476e-03, 9.3604106e-04, 2.3905378e-04,\n",
       "       6.4353771e-05, 6.2355265e-04, 6.9615915e-03, 1.8660208e-04,\n",
       "       6.4546341e-04, 9.7217605e-02, 7.4443245e-01, 3.2805433e-04,\n",
       "       9.9988833e-02, 4.0139597e-02, 2.3299281e-03, 3.8728856e-03,\n",
       "       2.1652908e-04], dtype=float32)"
      ]
     },
     "execution_count": 151,
     "metadata": {},
     "output_type": "execute_result"
    }
   ],
   "source": [
    "ansver[3].numpy()"
   ]
  },
  {
   "cell_type": "code",
   "execution_count": null,
   "metadata": {},
   "outputs": [],
   "source": [
    "for item in zip(ansver[3].numpy(),learn.dls.vocab[-1]):\n",
    "    print(f\"Класс {item[1]} Вероятность {item[0]:.5f}\")"
   ]
  },
  {
   "cell_type": "code",
   "execution_count": null,
   "metadata": {},
   "outputs": [],
   "source": [
    "interp = ClassificationInterpretation.from_learner(learn)\n",
    "interp.plot_confusion_matrix(figsize=(12,12), dpi=60)"
   ]
  },
  {
   "cell_type": "code",
   "execution_count": null,
   "metadata": {},
   "outputs": [],
   "source": [
    "interp.print_classification_report()"
   ]
  },
  {
   "cell_type": "code",
   "execution_count": null,
   "metadata": {},
   "outputs": [],
   "source": [
    "interp.plot_top_losses(10, nrows=2)"
   ]
  },
  {
   "cell_type": "code",
   "execution_count": null,
   "metadata": {},
   "outputs": [],
   "source": []
  }
 ],
 "metadata": {
  "kernelspec": {
   "display_name": "Python 3 (ipykernel)",
   "language": "python",
   "name": "python3"
  },
  "language_info": {
   "codemirror_mode": {
    "name": "ipython",
    "version": 3
   },
   "file_extension": ".py",
   "mimetype": "text/x-python",
   "name": "python",
   "nbconvert_exporter": "python",
   "pygments_lexer": "ipython3",
   "version": "3.11.9"
  }
 },
 "nbformat": 4,
 "nbformat_minor": 4
}
